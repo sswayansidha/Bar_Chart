{
  "nbformat": 4,
  "nbformat_minor": 0,
  "metadata": {
    "colab": {
      "name": "Datapane_Sample_Demo.ipynb",
      "provenance": [],
      "collapsed_sections": [],
      "authorship_tag": "ABX9TyPmBwL9HVdb5HVCxRugm87I",
      "include_colab_link": true
    },
    "kernelspec": {
      "name": "python3",
      "display_name": "Python 3"
    },
    "language_info": {
      "name": "python"
    }
  },
  "cells": [
    {
      "cell_type": "markdown",
      "metadata": {
        "id": "view-in-github",
        "colab_type": "text"
      },
      "source": [
        "<a href=\"https://colab.research.google.com/github/sswayansidha/Visualization/blob/main/Datapane_Sample_Demo.ipynb\" target=\"_parent\"><img src=\"https://colab.research.google.com/assets/colab-badge.svg\" alt=\"Open In Colab\"/></a>"
      ]
    },
    {
      "cell_type": "code",
      "source": [
        "import warnings"
      ],
      "metadata": {
        "id": "m2iQr5dFdk4W"
      },
      "execution_count": 38,
      "outputs": []
    },
    {
      "cell_type": "code",
      "source": [
        "!pip3 install datapane\n",
        "!conda install -c conda-forge \"datapane>=0.13.2\""
      ],
      "metadata": {
        "colab": {
          "base_uri": "https://localhost:8080/"
        },
        "id": "Oy6c2ZYeUT5U",
        "outputId": "ca51f55f-75ba-487d-9d45-9f730d14c01a"
      },
      "execution_count": 19,
      "outputs": [
        {
          "output_type": "stream",
          "name": "stdout",
          "text": [
            "Requirement already satisfied: datapane in /usr/local/lib/python3.7/dist-packages (0.13.2)\n",
            "Requirement already satisfied: validators<0.19.0,>=0.18.0 in /usr/local/lib/python3.7/dist-packages (from datapane) (0.18.2)\n",
            "Requirement already satisfied: pandas<2.0.0,>=1.1.0 in /usr/local/lib/python3.7/dist-packages (from datapane) (1.1.5)\n",
            "Requirement already satisfied: Jinja2<4.0.0,>=2.11.0 in /usr/local/lib/python3.7/dist-packages (from datapane) (2.11.3)\n",
            "Requirement already satisfied: toolz<0.12.0,>=0.11.0 in /usr/local/lib/python3.7/dist-packages (from datapane) (0.11.2)\n",
            "Requirement already satisfied: lxml<5.0.0,>=4.0.0 in /usr/local/lib/python3.7/dist-packages (from datapane) (4.2.6)\n",
            "Requirement already satisfied: stringcase<2.0.0,>=1.2.0 in /usr/local/lib/python3.7/dist-packages (from datapane) (1.2.0)\n",
            "Requirement already satisfied: posthog<2.0.0,>=1.4.0 in /usr/local/lib/python3.7/dist-packages (from datapane) (1.4.4)\n",
            "Requirement already satisfied: furl<3.0.0,>=2.0.0 in /usr/local/lib/python3.7/dist-packages (from datapane) (2.1.3)\n",
            "Requirement already satisfied: datacommons<2.0.0,>=1.4.3 in /usr/local/lib/python3.7/dist-packages (from datapane) (1.4.3)\n",
            "Requirement already satisfied: nbconvert<7.0.0,>=5.6.1 in /usr/local/lib/python3.7/dist-packages (from datapane) (5.6.1)\n",
            "Requirement already satisfied: packaging<22.0.0,>=20.0.0 in /usr/local/lib/python3.7/dist-packages (from datapane) (21.3)\n",
            "Requirement already satisfied: munch<3.0.0,>=2.3.0 in /usr/local/lib/python3.7/dist-packages (from datapane) (2.5.0)\n",
            "Requirement already satisfied: requests<3.0.0,>=2.19.0 in /usr/local/lib/python3.7/dist-packages (from datapane) (2.23.0)\n",
            "Requirement already satisfied: requests-toolbelt<0.10.0,>=0.9.1 in /usr/local/lib/python3.7/dist-packages (from datapane) (0.9.1)\n",
            "Requirement already satisfied: vega-datasets<1.0.0,>=0.9.0 in /usr/local/lib/python3.7/dist-packages (from datapane) (0.9.0)\n",
            "Requirement already satisfied: click<9.0.0,>=7.1.0 in /usr/local/lib/python3.7/dist-packages (from datapane) (7.1.2)\n",
            "Requirement already satisfied: colorlog<7.0.0,>=4.1.0 in /usr/local/lib/python3.7/dist-packages (from datapane) (6.6.0)\n",
            "Requirement already satisfied: micawber>=0.5.0 in /usr/local/lib/python3.7/dist-packages (from datapane) (0.5.4)\n",
            "Requirement already satisfied: PyYAML<7.0.0,>=6.0.0 in /usr/local/lib/python3.7/dist-packages (from datapane) (6.0)\n",
            "Requirement already satisfied: importlib_resources<6.0.0,>=3.0.0 in /usr/local/lib/python3.7/dist-packages (from datapane) (5.4.0)\n",
            "Requirement already satisfied: jsonschema<5.0.0,>=3.2.0 in /usr/local/lib/python3.7/dist-packages (from datapane) (4.3.3)\n",
            "Requirement already satisfied: pyarrow<6.0.0,>=3.0.0 in /usr/local/lib/python3.7/dist-packages (from datapane) (3.0.0)\n",
            "Requirement already satisfied: tabulate<0.9.0,>=0.8.0 in /usr/local/lib/python3.7/dist-packages (from datapane) (0.8.9)\n",
            "Requirement already satisfied: boltons<22.0.0,>=20.0.0 in /usr/local/lib/python3.7/dist-packages (from datapane) (21.0.0)\n",
            "Requirement already satisfied: click-spinner<0.2.0,>=0.1.8 in /usr/local/lib/python3.7/dist-packages (from datapane) (0.1.10)\n",
            "Requirement already satisfied: dominate<3.0.0,>=2.4.0 in /usr/local/lib/python3.7/dist-packages (from datapane) (2.6.0)\n",
            "Requirement already satisfied: dacite<2.0.0,>=1.0.2 in /usr/local/lib/python3.7/dist-packages (from datapane) (1.6.0)\n",
            "Requirement already satisfied: datacommons-pandas<0.0.4,>=0.0.3 in /usr/local/lib/python3.7/dist-packages (from datapane) (0.0.3)\n",
            "Requirement already satisfied: altair<5.0.0,>=4.0.0 in /usr/local/lib/python3.7/dist-packages (from datapane) (4.1.0)\n",
            "Requirement already satisfied: glom<21.0.0,>=20.5.0 in /usr/local/lib/python3.7/dist-packages (from datapane) (20.11.0)\n",
            "Requirement already satisfied: pydantic<2.0.0,>=1.6.0 in /usr/local/lib/python3.7/dist-packages (from datapane) (1.9.0)\n",
            "Requirement already satisfied: chardet<5.0.0,>=3.0.4 in /usr/local/lib/python3.7/dist-packages (from datapane) (3.0.4)\n",
            "Requirement already satisfied: numpy in /usr/local/lib/python3.7/dist-packages (from altair<5.0.0,>=4.0.0->datapane) (1.19.5)\n",
            "Requirement already satisfied: entrypoints in /usr/local/lib/python3.7/dist-packages (from altair<5.0.0,>=4.0.0->datapane) (0.3)\n",
            "Requirement already satisfied: six in /usr/local/lib/python3.7/dist-packages (from datacommons<2.0.0,>=1.4.3->datapane) (1.15.0)\n",
            "Requirement already satisfied: orderedmultidict>=1.0.1 in /usr/local/lib/python3.7/dist-packages (from furl<3.0.0,>=2.0.0->datapane) (1.0.1)\n",
            "Requirement already satisfied: face>=20.1.0 in /usr/local/lib/python3.7/dist-packages (from glom<21.0.0,>=20.5.0->datapane) (20.1.1)\n",
            "Requirement already satisfied: attrs in /usr/local/lib/python3.7/dist-packages (from glom<21.0.0,>=20.5.0->datapane) (21.2.0)\n",
            "Requirement already satisfied: zipp>=3.1.0 in /usr/local/lib/python3.7/dist-packages (from importlib_resources<6.0.0,>=3.0.0->datapane) (3.6.0)\n",
            "Requirement already satisfied: MarkupSafe>=0.23 in /usr/local/lib/python3.7/dist-packages (from Jinja2<4.0.0,>=2.11.0->datapane) (2.0.1)\n",
            "Requirement already satisfied: pyrsistent!=0.17.0,!=0.17.1,!=0.17.2,>=0.14.0 in /usr/local/lib/python3.7/dist-packages (from jsonschema<5.0.0,>=3.2.0->datapane) (0.18.0)\n",
            "Requirement already satisfied: typing-extensions in /usr/local/lib/python3.7/dist-packages (from jsonschema<5.0.0,>=3.2.0->datapane) (3.10.0.2)\n",
            "Requirement already satisfied: importlib-metadata in /usr/local/lib/python3.7/dist-packages (from jsonschema<5.0.0,>=3.2.0->datapane) (4.8.2)\n",
            "Requirement already satisfied: pygments in /usr/local/lib/python3.7/dist-packages (from nbconvert<7.0.0,>=5.6.1->datapane) (2.6.1)\n",
            "Requirement already satisfied: jupyter-core in /usr/local/lib/python3.7/dist-packages (from nbconvert<7.0.0,>=5.6.1->datapane) (4.9.1)\n",
            "Requirement already satisfied: bleach in /usr/local/lib/python3.7/dist-packages (from nbconvert<7.0.0,>=5.6.1->datapane) (4.1.0)\n",
            "Requirement already satisfied: traitlets>=4.2 in /usr/local/lib/python3.7/dist-packages (from nbconvert<7.0.0,>=5.6.1->datapane) (5.1.1)\n",
            "Requirement already satisfied: nbformat>=4.4 in /usr/local/lib/python3.7/dist-packages (from nbconvert<7.0.0,>=5.6.1->datapane) (5.1.3)\n",
            "Requirement already satisfied: pandocfilters>=1.4.1 in /usr/local/lib/python3.7/dist-packages (from nbconvert<7.0.0,>=5.6.1->datapane) (1.5.0)\n",
            "Requirement already satisfied: testpath in /usr/local/lib/python3.7/dist-packages (from nbconvert<7.0.0,>=5.6.1->datapane) (0.5.0)\n",
            "Requirement already satisfied: defusedxml in /usr/local/lib/python3.7/dist-packages (from nbconvert<7.0.0,>=5.6.1->datapane) (0.7.1)\n",
            "Requirement already satisfied: mistune<2,>=0.8.1 in /usr/local/lib/python3.7/dist-packages (from nbconvert<7.0.0,>=5.6.1->datapane) (0.8.4)\n",
            "Requirement already satisfied: ipython-genutils in /usr/local/lib/python3.7/dist-packages (from nbformat>=4.4->nbconvert<7.0.0,>=5.6.1->datapane) (0.2.0)\n",
            "Requirement already satisfied: pyparsing!=3.0.5,>=2.0.2 in /usr/local/lib/python3.7/dist-packages (from packaging<22.0.0,>=20.0.0->datapane) (3.0.6)\n",
            "Requirement already satisfied: python-dateutil>=2.7.3 in /usr/local/lib/python3.7/dist-packages (from pandas<2.0.0,>=1.1.0->datapane) (2.8.2)\n",
            "Requirement already satisfied: pytz>=2017.2 in /usr/local/lib/python3.7/dist-packages (from pandas<2.0.0,>=1.1.0->datapane) (2018.9)\n",
            "Requirement already satisfied: monotonic>=1.5 in /usr/local/lib/python3.7/dist-packages (from posthog<2.0.0,>=1.4.0->datapane) (1.6)\n",
            "Requirement already satisfied: backoff<2.0.0,>=1.10.0 in /usr/local/lib/python3.7/dist-packages (from posthog<2.0.0,>=1.4.0->datapane) (1.11.1)\n",
            "Requirement already satisfied: certifi>=2017.4.17 in /usr/local/lib/python3.7/dist-packages (from requests<3.0.0,>=2.19.0->datapane) (2021.10.8)\n",
            "Requirement already satisfied: urllib3!=1.25.0,!=1.25.1,<1.26,>=1.21.1 in /usr/local/lib/python3.7/dist-packages (from requests<3.0.0,>=2.19.0->datapane) (1.24.3)\n",
            "Requirement already satisfied: idna<3,>=2.5 in /usr/local/lib/python3.7/dist-packages (from requests<3.0.0,>=2.19.0->datapane) (2.10)\n",
            "Requirement already satisfied: decorator>=3.4.0 in /usr/local/lib/python3.7/dist-packages (from validators<0.19.0,>=0.18.0->datapane) (4.4.2)\n",
            "Requirement already satisfied: webencodings in /usr/local/lib/python3.7/dist-packages (from bleach->nbconvert<7.0.0,>=5.6.1->datapane) (0.5.1)\n",
            "/bin/bash: conda: command not found\n"
          ]
        }
      ]
    },
    {
      "cell_type": "code",
      "source": [
        "!pip install yfinance"
      ],
      "metadata": {
        "colab": {
          "base_uri": "https://localhost:8080/"
        },
        "id": "e1PNgPRzZU2i",
        "outputId": "478f6d53-87cc-4b66-e331-ad4dd6a9f8d9"
      },
      "execution_count": 39,
      "outputs": [
        {
          "output_type": "stream",
          "name": "stdout",
          "text": [
            "Requirement already satisfied: yfinance in /usr/local/lib/python3.7/dist-packages (0.1.68)\n",
            "Requirement already satisfied: multitasking>=0.0.7 in /usr/local/lib/python3.7/dist-packages (from yfinance) (0.0.10)\n",
            "Requirement already satisfied: lxml>=4.5.1 in /usr/local/lib/python3.7/dist-packages (from yfinance) (4.7.1)\n",
            "Requirement already satisfied: requests>=2.26 in /usr/local/lib/python3.7/dist-packages (from yfinance) (2.27.0)\n",
            "Requirement already satisfied: pandas>=0.24 in /usr/local/lib/python3.7/dist-packages (from yfinance) (1.1.5)\n",
            "Requirement already satisfied: numpy>=1.15 in /usr/local/lib/python3.7/dist-packages (from yfinance) (1.19.5)\n",
            "Requirement already satisfied: python-dateutil>=2.7.3 in /usr/local/lib/python3.7/dist-packages (from pandas>=0.24->yfinance) (2.8.2)\n",
            "Requirement already satisfied: pytz>=2017.2 in /usr/local/lib/python3.7/dist-packages (from pandas>=0.24->yfinance) (2018.9)\n",
            "Requirement already satisfied: six>=1.5 in /usr/local/lib/python3.7/dist-packages (from python-dateutil>=2.7.3->pandas>=0.24->yfinance) (1.15.0)\n",
            "Requirement already satisfied: charset-normalizer~=2.0.0 in /usr/local/lib/python3.7/dist-packages (from requests>=2.26->yfinance) (2.0.9)\n",
            "Requirement already satisfied: certifi>=2017.4.17 in /usr/local/lib/python3.7/dist-packages (from requests>=2.26->yfinance) (2021.10.8)\n",
            "Requirement already satisfied: idna<4,>=2.5 in /usr/local/lib/python3.7/dist-packages (from requests>=2.26->yfinance) (2.10)\n",
            "Requirement already satisfied: urllib3<1.27,>=1.21.1 in /usr/local/lib/python3.7/dist-packages (from requests>=2.26->yfinance) (1.24.3)\n"
          ]
        }
      ]
    },
    {
      "cell_type": "code",
      "execution_count": 22,
      "metadata": {
        "id": "COwzj4liT6jm"
      },
      "outputs": [],
      "source": [
        "import pandas as pd\n",
        "import yfinance as yf\n",
        "import datapane as dp\n",
        "import plotly.graph_objects as go"
      ]
    },
    {
      "cell_type": "code",
      "source": [
        "dp.login('YOUR API KEY FROM DATAPANE')"
      ],
      "metadata": {
        "colab": {
          "base_uri": "https://localhost:8080/",
          "height": 70
        },
        "id": "yLX9Px0JUH1F",
        "outputId": "b5399862-6553-4522-ff8b-404235a694af"
      },
      "execution_count": 25,
      "outputs": [
        {
          "output_type": "stream",
          "name": "stdout",
          "text": [
            "\u001b[32mConnected successfully to https://datapane.com as sswayansidha\u001b[0m\n"
          ]
        },
        {
          "output_type": "stream",
          "name": "stderr",
          "text": [
            "[\u001b[34m18:45:12\u001b[0m] [\u001b[36mDEBUG\u001b[0m] Reinitialising client config\u001b[0m\n"
          ]
        },
        {
          "output_type": "execute_result",
          "data": {
            "application/vnd.google.colaboratory.intrinsic+json": {
              "type": "string"
            },
            "text/plain": [
              "'sswayansidha'"
            ]
          },
          "metadata": {},
          "execution_count": 25
        }
      ]
    },
    {
      "cell_type": "code",
      "source": [
        "TICKER = \"NFLX\"\n",
        "\n",
        "df = yf.download(TICKER,\n",
        "                 start=\"2019-01-01\",\n",
        "                 end=\"2021-04-30\",\n",
        "                 auto_adjust=True)"
      ],
      "metadata": {
        "colab": {
          "base_uri": "https://localhost:8080/"
        },
        "id": "6XCoChURUrvh",
        "outputId": "3267371f-e2f4-4c21-a74b-fa590a01a781"
      },
      "execution_count": 26,
      "outputs": [
        {
          "output_type": "stream",
          "name": "stdout",
          "text": [
            "\r[*********************100%***********************]  1 of 1 completed\n"
          ]
        }
      ]
    },
    {
      "cell_type": "code",
      "source": [
        "df.head()"
      ],
      "metadata": {
        "colab": {
          "base_uri": "https://localhost:8080/",
          "height": 238
        },
        "id": "_fSLlUsfVe80",
        "outputId": "2c735895-9de1-4e5d-81e3-59b25d8676a7"
      },
      "execution_count": 27,
      "outputs": [
        {
          "output_type": "execute_result",
          "data": {
            "text/html": [
              "\n",
              "  <div id=\"df-549676d7-a1ea-40cf-b0a6-c32e9dc74d33\">\n",
              "    <div class=\"colab-df-container\">\n",
              "      <div>\n",
              "<style scoped>\n",
              "    .dataframe tbody tr th:only-of-type {\n",
              "        vertical-align: middle;\n",
              "    }\n",
              "\n",
              "    .dataframe tbody tr th {\n",
              "        vertical-align: top;\n",
              "    }\n",
              "\n",
              "    .dataframe thead th {\n",
              "        text-align: right;\n",
              "    }\n",
              "</style>\n",
              "<table border=\"1\" class=\"dataframe\">\n",
              "  <thead>\n",
              "    <tr style=\"text-align: right;\">\n",
              "      <th></th>\n",
              "      <th>Open</th>\n",
              "      <th>High</th>\n",
              "      <th>Low</th>\n",
              "      <th>Close</th>\n",
              "      <th>Volume</th>\n",
              "    </tr>\n",
              "    <tr>\n",
              "      <th>Date</th>\n",
              "      <th></th>\n",
              "      <th></th>\n",
              "      <th></th>\n",
              "      <th></th>\n",
              "      <th></th>\n",
              "    </tr>\n",
              "  </thead>\n",
              "  <tbody>\n",
              "    <tr>\n",
              "      <th>2019-01-02</th>\n",
              "      <td>259.279999</td>\n",
              "      <td>269.750000</td>\n",
              "      <td>256.579987</td>\n",
              "      <td>267.660004</td>\n",
              "      <td>11679500</td>\n",
              "    </tr>\n",
              "    <tr>\n",
              "      <th>2019-01-03</th>\n",
              "      <td>270.200012</td>\n",
              "      <td>275.790009</td>\n",
              "      <td>264.429993</td>\n",
              "      <td>271.200012</td>\n",
              "      <td>14969600</td>\n",
              "    </tr>\n",
              "    <tr>\n",
              "      <th>2019-01-04</th>\n",
              "      <td>281.880005</td>\n",
              "      <td>297.799988</td>\n",
              "      <td>278.540009</td>\n",
              "      <td>297.570007</td>\n",
              "      <td>19330100</td>\n",
              "    </tr>\n",
              "    <tr>\n",
              "      <th>2019-01-07</th>\n",
              "      <td>302.100006</td>\n",
              "      <td>316.799988</td>\n",
              "      <td>301.649994</td>\n",
              "      <td>315.339996</td>\n",
              "      <td>18620100</td>\n",
              "    </tr>\n",
              "    <tr>\n",
              "      <th>2019-01-08</th>\n",
              "      <td>319.980011</td>\n",
              "      <td>320.589996</td>\n",
              "      <td>308.010010</td>\n",
              "      <td>320.269989</td>\n",
              "      <td>15359200</td>\n",
              "    </tr>\n",
              "  </tbody>\n",
              "</table>\n",
              "</div>\n",
              "      <button class=\"colab-df-convert\" onclick=\"convertToInteractive('df-549676d7-a1ea-40cf-b0a6-c32e9dc74d33')\"\n",
              "              title=\"Convert this dataframe to an interactive table.\"\n",
              "              style=\"display:none;\">\n",
              "        \n",
              "  <svg xmlns=\"http://www.w3.org/2000/svg\" height=\"24px\"viewBox=\"0 0 24 24\"\n",
              "       width=\"24px\">\n",
              "    <path d=\"M0 0h24v24H0V0z\" fill=\"none\"/>\n",
              "    <path d=\"M18.56 5.44l.94 2.06.94-2.06 2.06-.94-2.06-.94-.94-2.06-.94 2.06-2.06.94zm-11 1L8.5 8.5l.94-2.06 2.06-.94-2.06-.94L8.5 2.5l-.94 2.06-2.06.94zm10 10l.94 2.06.94-2.06 2.06-.94-2.06-.94-.94-2.06-.94 2.06-2.06.94z\"/><path d=\"M17.41 7.96l-1.37-1.37c-.4-.4-.92-.59-1.43-.59-.52 0-1.04.2-1.43.59L10.3 9.45l-7.72 7.72c-.78.78-.78 2.05 0 2.83L4 21.41c.39.39.9.59 1.41.59.51 0 1.02-.2 1.41-.59l7.78-7.78 2.81-2.81c.8-.78.8-2.07 0-2.86zM5.41 20L4 18.59l7.72-7.72 1.47 1.35L5.41 20z\"/>\n",
              "  </svg>\n",
              "      </button>\n",
              "      \n",
              "  <style>\n",
              "    .colab-df-container {\n",
              "      display:flex;\n",
              "      flex-wrap:wrap;\n",
              "      gap: 12px;\n",
              "    }\n",
              "\n",
              "    .colab-df-convert {\n",
              "      background-color: #E8F0FE;\n",
              "      border: none;\n",
              "      border-radius: 50%;\n",
              "      cursor: pointer;\n",
              "      display: none;\n",
              "      fill: #1967D2;\n",
              "      height: 32px;\n",
              "      padding: 0 0 0 0;\n",
              "      width: 32px;\n",
              "    }\n",
              "\n",
              "    .colab-df-convert:hover {\n",
              "      background-color: #E2EBFA;\n",
              "      box-shadow: 0px 1px 2px rgba(60, 64, 67, 0.3), 0px 1px 3px 1px rgba(60, 64, 67, 0.15);\n",
              "      fill: #174EA6;\n",
              "    }\n",
              "\n",
              "    [theme=dark] .colab-df-convert {\n",
              "      background-color: #3B4455;\n",
              "      fill: #D2E3FC;\n",
              "    }\n",
              "\n",
              "    [theme=dark] .colab-df-convert:hover {\n",
              "      background-color: #434B5C;\n",
              "      box-shadow: 0px 1px 3px 1px rgba(0, 0, 0, 0.15);\n",
              "      filter: drop-shadow(0px 1px 2px rgba(0, 0, 0, 0.3));\n",
              "      fill: #FFFFFF;\n",
              "    }\n",
              "  </style>\n",
              "\n",
              "      <script>\n",
              "        const buttonEl =\n",
              "          document.querySelector('#df-549676d7-a1ea-40cf-b0a6-c32e9dc74d33 button.colab-df-convert');\n",
              "        buttonEl.style.display =\n",
              "          google.colab.kernel.accessAllowed ? 'block' : 'none';\n",
              "\n",
              "        async function convertToInteractive(key) {\n",
              "          const element = document.querySelector('#df-549676d7-a1ea-40cf-b0a6-c32e9dc74d33');\n",
              "          const dataTable =\n",
              "            await google.colab.kernel.invokeFunction('convertToInteractive',\n",
              "                                                     [key], {});\n",
              "          if (!dataTable) return;\n",
              "\n",
              "          const docLinkHtml = 'Like what you see? Visit the ' +\n",
              "            '<a target=\"_blank\" href=https://colab.research.google.com/notebooks/data_table.ipynb>data table notebook</a>'\n",
              "            + ' to learn more about interactive tables.';\n",
              "          element.innerHTML = '';\n",
              "          dataTable['output_type'] = 'display_data';\n",
              "          await google.colab.output.renderOutput(dataTable, element);\n",
              "          const docLink = document.createElement('div');\n",
              "          docLink.innerHTML = docLinkHtml;\n",
              "          element.appendChild(docLink);\n",
              "        }\n",
              "      </script>\n",
              "    </div>\n",
              "  </div>\n",
              "  "
            ],
            "text/plain": [
              "                  Open        High         Low       Close    Volume\n",
              "Date                                                                \n",
              "2019-01-02  259.279999  269.750000  256.579987  267.660004  11679500\n",
              "2019-01-03  270.200012  275.790009  264.429993  271.200012  14969600\n",
              "2019-01-04  281.880005  297.799988  278.540009  297.570007  19330100\n",
              "2019-01-07  302.100006  316.799988  301.649994  315.339996  18620100\n",
              "2019-01-08  319.980011  320.589996  308.010010  320.269989  15359200"
            ]
          },
          "metadata": {},
          "execution_count": 27
        }
      ]
    },
    {
      "cell_type": "code",
      "source": [
        "fig = go.Figure(data=\n",
        "    [go.Candlestick(x=df.index,\n",
        "                    open=df[\"Open\"],\n",
        "                    high=df[\"High\"],\n",
        "                    low=df[\"Low\"],\n",
        "                    close=df[\"Close\"])]\n",
        ")\n",
        "\n",
        "fig.update_layout(\n",
        "    title=f\"{TICKER}'s adjusted stock price\",\n",
        "    yaxis_title=\"Price ($)\"\n",
        ")\n",
        "\n",
        "fig.show()"
      ],
      "metadata": {
        "id": "JDXogKl-VxhQ",
        "colab": {
          "base_uri": "https://localhost:8080/",
          "height": 542
        },
        "outputId": "220ce750-099b-40e0-e434-e18a7650a10a"
      },
      "execution_count": 28,
      "outputs": [
        {
          "output_type": "display_data",
          "data": {
            "text/html": [
              "<html>\n",
              "<head><meta charset=\"utf-8\" /></head>\n",
              "<body>\n",
              "    <div>\n",
              "            <script src=\"https://cdnjs.cloudflare.com/ajax/libs/mathjax/2.7.5/MathJax.js?config=TeX-AMS-MML_SVG\"></script><script type=\"text/javascript\">if (window.MathJax) {MathJax.Hub.Config({SVG: {font: \"STIX-Web\"}});}</script>\n",
              "                <script type=\"text/javascript\">window.PlotlyConfig = {MathJaxConfig: 'local'};</script>\n",
              "        <script src=\"https://cdn.plot.ly/plotly-latest.min.js\"></script>    \n",
              "            <div id=\"c9514337-6099-48d1-9a65-a6ff1e593675\" class=\"plotly-graph-div\" style=\"height:525px; width:100%;\"></div>\n",
              "            <script type=\"text/javascript\">\n",
              "                \n",
              "                    window.PLOTLYENV=window.PLOTLYENV || {};\n",
              "                    \n",
              "                if (document.getElementById(\"c9514337-6099-48d1-9a65-a6ff1e593675\")) {\n",
              "                    Plotly.newPlot(\n",
              "                        'c9514337-6099-48d1-9a65-a6ff1e593675',\n",
              "                        [{\"close\": [267.6600036621094, 271.20001220703125, 297.57000732421875, 315.3399963378906, 320.2699890136719, 319.9599914550781, 324.6600036621094, 337.5899963378906, 332.94000244140625, 354.6400146484375, 351.3900146484375, 353.19000244140625, 339.1000061035156, 325.1600036621094, 321.989990234375, 326.6700134277344, 338.04998779296875, 335.6600036621094, 328.8999938964844, 340.6600036621094, 339.5, 339.8500061035156, 351.3399963378906, 355.80999755859375, 352.19000244140625, 344.7099914550781, 347.57000732421875, 345.7300109863281, 359.9700012207031, 351.7699890136719, 359.07000732421875, 356.8699951171875, 361.9200134277344, 359.9100036621094, 356.9700012207031, 363.0199890136719, 363.9100036621094, 364.9700012207031, 362.8699951171875, 358.1000061035156, 357.32000732421875, 351.0400085449219, 354.29998779296875, 359.6099853515625, 352.6000061035156, 349.6000061035156, 358.8599853515625, 356.2699890136719, 361.2099914550781, 358.82000732421875, 361.4599914550781, 363.44000244140625, 358.7799987792969, 375.2200012207031, 377.8699951171875, 361.010009765625, 366.2300109863281, 359.9700012207031, 353.3699951171875, 354.6099853515625, 356.55999755859375, 366.9599914550781, 367.7200012207031, 369.75, 367.8800048828125, 365.489990234375, 361.4100036621094, 364.7099914550781, 363.9200134277344, 367.6499938964844, 351.1400146484375, 348.8699951171875, 359.4599914550781, 354.739990234375, 360.3500061035156, 377.3399963378906, 381.8900146484375, 374.2300109863281, 368.3299865722656, 374.8500061035156, 371.8299865722656, 370.5400085449219, 378.80999755859375, 379.05999755859375, 385.0299987792969, 378.6700134277344, 370.4599914550781, 364.3699951171875, 362.75, 361.0400085449219, 345.260009765625, 345.6099853515625, 354.989990234375, 359.30999755859375, 354.45001220703125, 348.1099853515625, 354.2699890136719, 359.7300109863281, 352.2099914550781, 354.3900146484375, 355.05999755859375, 349.19000244140625, 351.8500061035156, 343.2799987792969, 336.6300048828125, 353.3999938964844, 355.7300109863281, 357.1300048828125, 360.8699951171875, 352.010009765625, 351.2699890136719, 345.55999755859375, 343.42999267578125, 339.7300109863281, 350.6199951171875, 357.1199951171875, 363.5199890136719, 365.2099914550781, 369.2099914550781, 371.0400085449219, 360.29998779296875, 362.20001220703125, 370.0199890136719, 367.32000732421875, 374.6000061035156, 375.42999267578125, 381.7200012207031, 380.54998779296875, 376.1600036621094, 379.92999267578125, 381.0, 379.5, 373.25, 366.6000061035156, 365.989990234375, 362.44000244140625, 325.2099914550781, 315.1000061035156, 310.6199951171875, 307.29998779296875, 317.94000244140625, 326.4599914550781, 335.7799987792969, 332.70001220703125, 325.92999267578125, 322.989990234375, 319.5, 318.8299865722656, 307.6300048828125, 310.1000061035156, 304.2900085449219, 315.8999938964844, 308.92999267578125, 310.8299865722656, 312.2799987792969, 299.1099853515625, 295.760009765625, 302.79998779296875, 309.3800048828125, 298.989990234375, 297.80999755859375, 296.92999267578125, 291.44000244140625, 294.9800109863281, 291.0299987792969, 291.7699890136719, 296.7799987792969, 293.75, 289.2900085449219, 291.5199890136719, 293.25, 290.1700134277344, 294.3399963378906, 287.989990234375, 288.2699890136719, 288.8599853515625, 294.1499938964844, 294.2900085449219, 298.6000061035156, 291.55999755859375, 286.6000061035156, 270.75, 265.9200134277344, 254.58999633789062, 264.75, 263.30999755859375, 263.0799865722656, 267.6199951171875, 269.5799865722656, 268.0299987792969, 268.1499938964844, 272.7900085449219, 274.4599914550781, 270.7200012207031, 267.5299987792969, 280.4800109863281, 282.92999267578125, 285.5299987792969, 284.25, 286.2799987792969, 293.3500061035156, 275.29998779296875, 278.04998779296875, 266.69000244140625, 271.2699890136719, 271.5, 276.82000732421875, 281.8599853515625, 281.2099914550781, 291.45001220703125, 287.4100036621094, 286.80999755859375, 292.8599853515625, 288.0299987792969, 288.5899963378906, 289.57000732421875, 291.57000732421875, 294.17999267578125, 292.010009765625, 283.1099853515625, 289.6199951171875, 295.0299987792969, 302.57000732421875, 302.6000061035156, 305.1600036621094, 311.69000244140625, 310.4800109863281, 315.54998779296875, 312.489990234375, 315.92999267578125, 314.6600036621094, 309.989990234375, 306.1600036621094, 304.32000732421875, 302.8599853515625, 307.3500061035156, 302.5, 293.1199951171875, 298.92999267578125, 298.44000244140625, 298.5, 304.2099914550781, 315.4800109863281, 320.79998779296875, 332.2200012207031, 336.8999938964844, 333.1000061035156, 333.20001220703125, 332.6300048828125, 329.0899963378906, 323.30999755859375, 323.57000732421875, 329.80999755859375, 325.8999938964844, 335.8299865722656, 330.75, 339.260009765625, 335.6600036621094, 329.04998779296875, 338.9200134277344, 338.69000244140625, 339.07000732421875, 338.6199951171875, 339.6700134277344, 338.1099853515625, 326.0, 349.6000061035156, 353.1600036621094, 342.8800048828125, 348.5199890136719, 343.1600036621094, 347.739990234375, 345.0899963378906, 358.0, 369.010009765625, 369.6700134277344, 366.95001220703125, 366.7699890136719, 371.07000732421875, 373.69000244140625, 380.010009765625, 381.3999938964844, 380.3999938964844, 387.7799987792969, 386.19000244140625, 386.0, 380.07000732421875, 368.70001220703125, 360.0899963378906, 379.239990234375, 371.7099914550781, 369.0299987792969, 381.04998779296875, 368.7699890136719, 383.7900085449219, 372.7799987792969, 368.9700012207031, 346.489990234375, 364.1300048828125, 349.9200134277344, 315.25, 336.29998779296875, 298.8399963378906, 319.75, 315.4700012207031, 332.0299987792969, 332.8299865722656, 360.2699890136719, 357.32000732421875, 342.3900146484375, 362.989990234375, 357.1199951171875, 370.9599914550781, 375.5, 364.0799865722656, 370.0799865722656, 361.760009765625, 379.9599914550781, 372.2799987792969, 371.1199951171875, 370.7200012207031, 396.7200012207031, 413.54998779296875, 426.75, 439.1700134277344, 422.9599914550781, 437.489990234375, 433.8299865722656, 421.4200134277344, 426.70001220703125, 424.989990234375, 421.3800048828125, 403.8299865722656, 411.8900146484375, 419.8500061035156, 415.2699890136719, 428.1499938964844, 424.67999267578125, 434.260009765625, 436.5299987792969, 435.54998779296875, 440.5199890136719, 431.82000732421875, 438.2699890136719, 441.95001220703125, 454.19000244140625, 452.5799865722656, 451.0400085449219, 447.6700134277344, 436.25, 429.32000732421875, 414.7699890136719, 419.8900146484375, 413.44000244140625, 419.7300109863281, 425.9200134277344, 427.30999755859375, 421.9700012207031, 414.3299865722656, 419.6000061035156, 419.489990234375, 434.04998779296875, 434.4800109863281, 425.55999755859375, 418.07000732421875, 425.5, 436.1300048828125, 447.7699890136719, 449.8699951171875, 453.7200012207031, 468.0400085449219, 466.260009765625, 457.8500061035156, 465.9100036621094, 443.3999938964844, 447.239990234375, 455.0400085449219, 485.6400146484375, 476.8900146484375, 493.80999755859375, 493.1600036621094, 502.7799987792969, 507.760009765625, 548.72998046875, 525.5, 524.8800048828125, 523.260009765625, 527.3900146484375, 492.989990234375, 502.4100036621094, 490.1000061035156, 489.82000732421875, 477.5799865722656, 480.45001220703125, 495.6499938964844, 488.510009765625, 484.4800109863281, 485.79998779296875, 488.8800048828125, 498.6199951171875, 509.6400146484375, 502.1099853515625, 509.0799865722656, 494.7300109863281, 483.3800048828125, 466.92999267578125, 475.4700012207031, 481.3299865722656, 482.67999267578125, 482.3500061035156, 491.8699951171875, 484.5299987792969, 497.8999938964844, 492.30999755859375, 488.80999755859375, 490.5799865722656, 547.530029296875, 526.27001953125, 523.8900146484375, 529.5599975585938, 556.5499877929688, 552.8400268554688, 525.75, 516.0499877929688, 507.0199890136719, 500.19000244140625, 480.6700134277344, 482.0299987792969, 476.260009765625, 495.989990234375, 483.8599853515625, 470.20001220703125, 469.9599914550781, 487.3500061035156, 491.1700134277344, 470.6099853515625, 473.0799865722656, 482.8800048828125, 490.6499938964844, 493.4800109863281, 500.0299987792969, 527.510009765625, 503.05999755859375, 520.6500244140625, 505.8699951171875, 534.6599731445312, 531.7899780273438, 539.4400024414062, 539.8099975585938, 554.0900268554688, 541.4500122070312, 541.9400024414062, 530.7899780273438, 530.719970703125, 525.4199829101562, 489.04998779296875, 485.2300109863281, 488.2799987792969, 488.239990234375, 488.92999267578125, 486.239990234375, 504.2099914550781, 475.739990234375, 484.1199951171875, 487.2200012207031, 496.95001220703125, 513.760009765625, 514.72998046875, 470.5, 480.239990234375, 490.760009765625, 486.7699890136719, 482.8399963378906, 479.1000061035156, 480.6300048828125, 481.7900085449219, 484.6700134277344, 488.239990234375, 476.6199951171875, 482.8800048828125, 485.0, 491.3599853515625, 490.70001220703125, 504.5799865722656, 503.3800048828125, 497.5199890136719, 498.30999755859375, 515.780029296875, 512.6599731445312, 493.6000061035156, 501.0899963378906, 503.2200012207031, 522.4199829101562, 519.780029296875, 524.8300170898438, 532.9000244140625, 534.4500122070312, 528.9099731445312, 527.3300170898438, 514.47998046875, 513.969970703125, 519.1199951171875, 530.8699951171875, 524.5900268554688, 540.72998046875, 522.8599853515625, 520.7999877929688, 500.489990234375, 508.8900146484375, 510.3999938964844, 499.1000061035156, 494.25, 507.7900085449219, 500.8599853515625, 497.9800109863281, 501.7699890136719, 586.3400268554688, 579.8400268554688, 565.1699829101562, 556.780029296875, 561.9299926757812, 523.280029296875, 538.5999755859375, 532.3900146484375, 539.0399780273438, 548.1599731445312, 539.4500122070312, 552.1599731445312, 550.7899780273438, 547.9199829101562, 559.0700073242188, 563.5900268554688, 557.5900268554688, 556.52001953125, 557.280029296875, 551.3400268554688, 548.219970703125, 540.219970703125, 533.780029296875, 546.1500244140625, 553.4099731445312, 546.7000122070312, 538.8499755859375, 550.6400146484375, 547.8200073242188, 520.7000122070312, 511.2900085449219, 516.3900146484375, 493.3299865722656, 506.44000244140625, 504.5400085449219, 523.0599975585938, 518.02001953125, 520.25, 524.030029296875, 524.4400024414062, 504.7900085449219, 512.1799926757812, 523.1099853515625, 535.0900268554688, 520.8099975585938, 502.8599853515625, 508.04998779296875, 513.9500122070312, 513.3900146484375, 521.6599731445312, 539.4199829101562, 540.6699829101562, 544.530029296875, 546.989990234375, 554.5800170898438, 555.3099975585938, 552.780029296875, 553.72998046875, 540.02001953125, 549.219970703125, 546.5399780273438, 554.4400024414062, 549.5700073242188, 508.8999938964844, 508.7799987792969, 505.54998779296875, 510.29998779296875, 505.54998779296875, 506.5199890136719, 509.0], \"high\": [269.75, 275.7900085449219, 297.79998779296875, 316.79998779296875, 320.5899963378906, 323.3500061035156, 325.3699951171875, 341.0899963378906, 335.4800109863281, 357.2200012207031, 358.8500061035156, 355.7900085449219, 353.0, 336.8800048828125, 331.75, 331.79998779296875, 340.0, 336.29998779296875, 338.2200012207031, 341.7799987792969, 345.989990234375, 346.8399963378906, 352.0, 360.0, 357.0400085449219, 348.75, 348.0, 352.8699951171875, 360.0, 359.6000061035156, 360.45001220703125, 364.3999938964844, 365.0, 366.7099914550781, 362.8500061035156, 366.1300048828125, 371.489990234375, 365.70001220703125, 368.0299987792969, 366.3900146484375, 362.8699951171875, 362.25, 356.1700134277344, 359.8800048828125, 362.8599853515625, 349.9200134277344, 358.9800109863281, 360.1300048828125, 362.4800109863281, 363.8399963378906, 364.0, 370.9700012207031, 366.9599914550781, 375.8999938964844, 379.0, 376.42999267578125, 367.0400085449219, 368.3800048828125, 362.4700012207031, 355.94000244140625, 358.25, 368.3299865722656, 368.4200134277344, 373.4100036621094, 372.04998779296875, 369.79998779296875, 365.94000244140625, 366.739990234375, 368.8500061035156, 370.1199951171875, 361.75, 352.2099914550781, 364.4800109863281, 368.760009765625, 360.4100036621094, 377.69000244140625, 384.79998779296875, 381.8999938964844, 374.760009765625, 375.1400146484375, 374.5799865722656, 374.5, 385.989990234375, 383.5, 385.0299987792969, 381.3500061035156, 379.9100036621094, 369.0, 364.20001220703125, 365.260009765625, 354.260009765625, 349.95001220703125, 356.5, 364.0, 359.6199951171875, 352.4200134277344, 356.42999267578125, 370.4599914550781, 357.4200134277344, 359.44000244140625, 361.20001220703125, 353.8500061035156, 354.2099914550781, 349.3399963378906, 347.6600036621094, 353.6099853515625, 357.8800048828125, 358.2099914550781, 365.1499938964844, 367.1000061035156, 357.5799865722656, 353.6099853515625, 348.5, 343.3999938964844, 351.7699890136719, 361.5, 364.739990234375, 370.1199951171875, 371.45001220703125, 375.0, 371.0, 366.7900085449219, 370.8500061035156, 371.5400085449219, 376.6600036621094, 376.0, 381.989990234375, 381.3999938964844, 378.25, 384.760009765625, 384.3399963378906, 384.5400085449219, 379.739990234375, 373.67999267578125, 371.3399963378906, 366.5, 329.8500061035156, 325.8500061035156, 314.5400085449219, 313.5, 319.989990234375, 327.69000244140625, 336.0, 336.3999938964844, 329.6499938964844, 331.7699890136719, 328.5799865722656, 319.4100036621094, 313.4200134277344, 311.8800048828125, 305.0, 316.3599853515625, 316.6400146484375, 312.8900146484375, 316.42999267578125, 308.4100036621094, 300.6300048828125, 303.54998779296875, 311.75, 305.0, 302.8800048828125, 300.3299865722656, 299.010009765625, 296.95001220703125, 296.7699890136719, 292.82000732421875, 299.92999267578125, 298.94000244140625, 293.8999938964844, 292.3800048828125, 293.9700012207031, 293.3500061035156, 301.54998779296875, 297.1700134277344, 292.6499938964844, 292.7300109863281, 296.6199951171875, 297.42999267578125, 299.1499938964844, 296.04998779296875, 293.80999755859375, 282.5, 273.3900146484375, 265.0, 266.6000061035156, 268.04998779296875, 267.44000244140625, 268.8800048828125, 272.20001220703125, 269.3500061035156, 268.8399963378906, 275.4800109863281, 276.67999267578125, 275.5299987792969, 271.0, 280.5299987792969, 287.8699951171875, 286.92999267578125, 285.8699951171875, 288.1700134277344, 308.75, 290.8999938964844, 279.94000244140625, 275.4100036621094, 273.9200134277344, 274.0199890136719, 277.7699890136719, 285.75, 284.4100036621094, 293.489990234375, 291.45001220703125, 289.1199951171875, 295.3900146484375, 291.19000244140625, 290.55999755859375, 298.19000244140625, 293.989990234375, 296.3599853515625, 295.3500061035156, 293.4100036621094, 290.6300048828125, 295.82000732421875, 304.989990234375, 305.6700134277344, 308.25, 312.69000244140625, 311.3999938964844, 315.7300109863281, 316.5, 316.82000732421875, 316.6199951171875, 314.3900146484375, 307.3599853515625, 308.42999267578125, 306.4800109863281, 307.8500061035156, 311.489990234375, 298.94000244140625, 299.42999267578125, 299.1700134277344, 301.79998779296875, 305.7099914550781, 316.79998779296875, 325.3599853515625, 332.8299865722656, 338.0, 337.95001220703125, 335.70001220703125, 336.4599914550781, 333.82000732421875, 329.19000244140625, 324.9200134277344, 329.9800109863281, 329.8599853515625, 336.3599853515625, 336.70001220703125, 342.70001220703125, 343.4200134277344, 338.5, 340.8500061035156, 345.3800048828125, 343.1700134277344, 343.55999755859375, 341.57000732421875, 341.0, 336.29998779296875, 349.8800048828125, 359.8500061035156, 351.8999938964844, 352.3999938964844, 349.3999938964844, 348.20001220703125, 347.3900146484375, 359.6300048828125, 369.57000732421875, 375.25, 371.54998779296875, 371.79998779296875, 374.79998779296875, 378.1099853515625, 380.6199951171875, 385.3699951171875, 385.1499938964844, 389.5400085449219, 392.95001220703125, 389.70001220703125, 387.32000732421875, 372.82000732421875, 375.6499938964844, 382.0, 391.55999755859375, 376.7699890136719, 381.3599853515625, 393.5199890136719, 384.010009765625, 391.3999938964844, 371.30999755859375, 357.4700012207031, 364.5400085449219, 362.9800109863281, 335.7200012207031, 336.4200134277344, 334.3500061035156, 322.8999938964844, 331.5799865722656, 348.510009765625, 350.489990234375, 366.1099853515625, 372.92999267578125, 362.0, 363.8399963378906, 368.55999755859375, 377.79998779296875, 383.010009765625, 380.2300109863281, 370.989990234375, 370.8999938964844, 380.2900085449219, 381.3299865722656, 378.3900146484375, 372.1000061035156, 400.510009765625, 417.82000732421875, 434.9800109863281, 449.5199890136719, 432.0, 444.489990234375, 447.0, 433.0, 438.4100036621094, 427.1700134277344, 429.0, 421.0, 415.8599853515625, 424.44000244140625, 427.9700012207031, 428.5400085449219, 431.0, 439.7699890136719, 438.8800048828125, 442.0, 444.8900146484375, 444.1700134277344, 447.0, 452.3800048828125, 455.0, 456.3599853515625, 458.9700012207031, 455.80999755859375, 448.9599914550781, 439.0899963378906, 428.5, 420.0199890136719, 422.3699951171875, 420.29998779296875, 426.7200012207031, 427.5899963378906, 427.1000061035156, 428.7099914550781, 420.239990234375, 420.79998779296875, 434.7300109863281, 439.69000244140625, 445.57000732421875, 434.05999755859375, 426.489990234375, 437.9599914550781, 450.4599914550781, 452.760009765625, 453.9700012207031, 468.5899963378906, 474.010009765625, 472.3599853515625, 467.010009765625, 468.0299987792969, 447.6700134277344, 457.5899963378906, 488.2300109863281, 492.2799987792969, 499.5, 504.82000732421875, 505.1000061035156, 510.0, 555.8800048828125, 575.3699951171875, 525.5, 529.0, 535.5399780273438, 503.5899963378906, 504.5, 506.2200012207031, 497.20001220703125, 491.8999938964844, 487.1700134277344, 496.9200134277344, 497.7900085449219, 494.9200134277344, 488.3500061035156, 494.79998779296875, 503.0899963378906, 510.44000244140625, 510.1000061035156, 510.82000732421875, 508.2900085449219, 497.4599914550781, 480.9200134277344, 482.489990234375, 484.45001220703125, 488.3299865722656, 486.239990234375, 495.29998779296875, 494.5, 498.94000244140625, 498.1300048828125, 501.0, 492.4700012207031, 549.0399780273438, 541.0, 539.0, 531.989990234375, 557.3900146484375, 556.5, 554.0, 527.3599853515625, 522.0, 520.0, 506.2900085449219, 493.7300109863281, 488.989990234375, 497.4700012207031, 504.6600036621094, 478.3999938964844, 479.3999938964844, 487.7799987792969, 491.82000732421875, 491.0400085449219, 477.0, 484.8699951171875, 492.0, 496.2900085449219, 504.6300048828125, 529.5499877929688, 526.3699951171875, 520.989990234375, 521.8200073242188, 536.489990234375, 535.0, 544.280029296875, 551.8099975585938, 557.6500244140625, 572.489990234375, 551.219970703125, 554.3300170898438, 541.7999877929688, 533.780029296875, 506.8500061035156, 495.1400146484375, 490.05999755859375, 496.82000732421875, 490.489990234375, 494.0, 513.9000244140625, 505.8800048828125, 486.29998779296875, 495.30999755859375, 507.7300109863281, 518.72998046875, 515.2100219726562, 495.8500061035156, 484.6000061035156, 491.67999267578125, 496.5199890136719, 488.94000244140625, 485.5799865722656, 487.510009765625, 488.6099853515625, 487.79998779296875, 494.760009765625, 491.1499938964844, 484.04998779296875, 486.8999938964844, 493.25, 492.54998779296875, 509.4700012207031, 506.79998779296875, 508.7699890136719, 504.5, 517.760009765625, 521.489990234375, 514.5, 503.7699890136719, 503.3399963378906, 524.1599731445312, 524.7000122070312, 527.3800048828125, 535.489990234375, 536.3699951171875, 532.6199951171875, 530.4000244140625, 526.3200073242188, 519.3499755859375, 523.6599731445312, 536.5499877929688, 533.260009765625, 545.5, 540.7999877929688, 526.780029296875, 513.0999755859375, 516.4400024414062, 513.239990234375, 510.7300109863281, 501.0899963378906, 512.3499755859375, 514.5, 506.32000732421875, 509.25, 593.2899780273438, 588.75, 583.989990234375, 569.75, 567.989990234375, 556.4199829101562, 553.1500244140625, 541.0, 545.0599975585938, 555.47998046875, 550.47998046875, 559.47998046875, 554.4400024414062, 555.0, 566.0, 566.6500244140625, 565.9299926757812, 561.25, 563.6300048828125, 555.25, 550.0, 548.989990234375, 541.7899780273438, 548.5399780273438, 556.8499755859375, 556.47998046875, 553.0900268554688, 552.1400146484375, 556.989990234375, 548.010009765625, 531.5, 517.760009765625, 518.8400268554688, 513.1099853515625, 518.969970703125, 530.239990234375, 526.510009765625, 520.72998046875, 533.4199829101562, 528.3699951171875, 517.9000244140625, 513.1900024414062, 529.3099975585938, 543.1199951171875, 534.4199829101562, 518.530029296875, 508.7200012207031, 518.0, 514.4099731445312, 528.1300048828125, 540.5, 542.8499755859375, 554.1699829101562, 549.6400146484375, 556.9000244140625, 556.9000244140625, 557.97998046875, 559.75, 554.8699951171875, 553.489990234375, 551.97998046875, 556.4400024414062, 563.5599975585938, 515.4600219726562, 513.9600219726562, 509.70001220703125, 510.4800109863281, 512.989990234375, 508.3999938964844, 509.2900085449219], \"low\": [256.5799865722656, 264.42999267578125, 278.5400085449219, 301.6499938964844, 308.010009765625, 313.5, 312.5, 328.5199890136719, 329.1300048828125, 347.0, 348.1099853515625, 346.4100036621094, 336.7300109863281, 321.0299987792969, 318.6000061035156, 319.0, 328.510009765625, 328.8800048828125, 328.1499938964844, 330.79998779296875, 338.0899963378906, 336.5, 341.29998779296875, 352.8999938964844, 347.19000244140625, 339.0199890136719, 338.0, 344.80999755859375, 346.5199890136719, 350.2799987792969, 348.3299865722656, 355.5, 355.32000732421875, 356.70001220703125, 353.8800048828125, 360.04998779296875, 363.7900085449219, 359.3299865722656, 359.79998779296875, 357.7099914550781, 354.69000244140625, 348.0400085449219, 348.25, 351.70001220703125, 350.5, 342.4700012207031, 350.0299987792969, 353.79998779296875, 352.7699890136719, 358.1000061035156, 358.8900146484375, 361.8599853515625, 356.79998779296875, 357.010009765625, 370.6099853515625, 360.0400085449219, 357.44000244140625, 358.0199890136719, 350.3699951171875, 349.20001220703125, 353.7099914550781, 358.510009765625, 362.2200012207031, 366.19000244140625, 362.3999938964844, 364.6600036621094, 359.92999267578125, 359.0, 362.25, 360.80999755859375, 349.3599853515625, 342.2699890136719, 352.7200012207031, 350.6000061035156, 351.6400146484375, 359.0, 374.7099914550781, 373.2699890136719, 365.70001220703125, 366.239990234375, 369.1199951171875, 368.3500061035156, 373.1700134277344, 374.510009765625, 378.2699890136719, 376.0, 365.80999755859375, 361.3599853515625, 352.75, 353.05999755859375, 343.1000061035156, 342.5, 341.3900146484375, 353.94000244140625, 353.7900085449219, 345.3999938964844, 349.92999267578125, 357.29998779296875, 347.70001220703125, 353.7900085449219, 353.6499938964844, 345.8999938964844, 348.29998779296875, 342.9200134277344, 332.6499938964844, 343.25, 348.7099914550781, 352.0899963378906, 355.69000244140625, 349.2900085449219, 348.5, 343.2300109863281, 339.25, 336.1600036621094, 342.05999755859375, 353.75, 356.1199951171875, 361.2200012207031, 365.0, 370.20001220703125, 358.2900085449219, 361.6000061035156, 363.20001220703125, 364.8699951171875, 372.0, 370.30999755859375, 375.8399963378906, 375.55999755859375, 375.3599853515625, 377.5, 362.67999267578125, 378.79998779296875, 372.7900085449219, 362.29998779296875, 364.9200134277344, 361.75, 320.29998779296875, 314.2300109863281, 305.80999755859375, 306.0, 307.25, 316.29998779296875, 327.5, 328.7699890136719, 323.2300109863281, 318.5299987792969, 318.739990234375, 311.79998779296875, 304.67999267578125, 305.29998779296875, 296.80999755859375, 306.6300048828125, 305.67999267578125, 303.239990234375, 308.1600036621094, 298.010009765625, 288.0, 296.2699890136719, 304.75, 297.67999267578125, 296.20001220703125, 293.1499938964844, 290.32000732421875, 292.5, 287.20001220703125, 287.75, 294.989990234375, 290.8500061035156, 288.05999755859375, 286.510009765625, 282.7900085449219, 287.0299987792969, 290.6000061035156, 282.6600036621094, 284.6099853515625, 286.6000061035156, 290.0400085449219, 289.7799987792969, 291.7900085449219, 287.45001220703125, 283.3999938964844, 266.0, 261.8900146484375, 252.27999877929688, 253.6999969482422, 260.20001220703125, 260.3900146484375, 262.7799987792969, 264.0299987792969, 262.19000244140625, 257.010009765625, 266.4700012207031, 271.2799987792969, 270.6400146484375, 264.57000732421875, 265.0299987792969, 282.3399963378906, 282.0, 279.3999938964844, 280.739990234375, 288.29998779296875, 273.3599853515625, 269.0, 265.79998779296875, 266.6300048828125, 268.79998779296875, 270.17999267578125, 277.3500061035156, 277.54998779296875, 283.0, 284.7799987792969, 283.0199890136719, 287.1600036621094, 286.30999755859375, 285.8399963378906, 288.2699890136719, 287.510009765625, 288.5, 288.70001220703125, 281.1400146484375, 283.2200012207031, 287.57000732421875, 293.2799987792969, 298.5199890136719, 301.0, 304.260009765625, 304.4100036621094, 305.25, 311.69000244140625, 312.75, 313.3399963378906, 303.75, 301.8800048828125, 303.2699890136719, 298.80999755859375, 302.6000061035156, 302.44000244140625, 292.0199890136719, 294.20001220703125, 295.05999755859375, 297.25, 298.6300048828125, 306.6000061035156, 315.6000061035156, 324.17999267578125, 330.6000061035156, 331.0199890136719, 331.6000061035156, 332.010009765625, 326.010009765625, 322.8599853515625, 321.0899963378906, 324.7799987792969, 325.5299987792969, 321.20001220703125, 330.29998779296875, 331.04998779296875, 334.6099853515625, 327.2699890136719, 331.510009765625, 335.5199890136719, 336.6000061035156, 335.8500061035156, 337.3800048828125, 332.5899963378906, 323.6000061035156, 325.010009765625, 345.8800048828125, 341.0199890136719, 342.7799987792969, 338.54998779296875, 339.25, 340.9800109863281, 346.2799987792969, 356.1000061035156, 362.29998779296875, 362.510009765625, 363.57000732421875, 362.5199890136719, 369.7200012207031, 375.8800048828125, 376.510009765625, 379.42999267578125, 379.19000244140625, 384.8999938964844, 376.67999267578125, 377.8999938964844, 361.0, 357.7200012207031, 365.0, 370.6000061035156, 356.79998779296875, 364.5, 367.3999938964844, 370.510009765625, 368.6400146484375, 356.8500061035156, 341.7200012207031, 347.8500061035156, 344.7900085449219, 307.32000732421875, 307.3900146484375, 294.75, 290.25, 300.0, 316.82000732421875, 332.0, 340.8800048828125, 353.0299987792969, 339.1700134277344, 341.7300109863281, 353.0, 361.1700134277344, 366.44000244140625, 361.0199890136719, 360.05999755859375, 357.510009765625, 361.7099914550781, 369.3399963378906, 368.30999755859375, 363.0299987792969, 367.70001220703125, 394.8500061035156, 412.25, 431.6099853515625, 414.70001220703125, 430.55999755859375, 425.6000061035156, 413.0, 419.260009765625, 415.8800048828125, 420.8399963378906, 402.9100036621094, 393.6000061035156, 408.0, 411.7300109863281, 414.8699951171875, 421.55999755859375, 426.3900146484375, 430.6600036621094, 433.6400146484375, 435.55999755859375, 431.3599853515625, 427.2699890136719, 432.82000732421875, 437.510009765625, 443.3500061035156, 450.4700012207031, 444.0, 430.25, 427.17999267578125, 413.1400146484375, 397.8599853515625, 411.5, 411.8500061035156, 415.9800109863281, 419.4599914550781, 418.04998779296875, 410.0299987792969, 404.25, 406.5, 420.30999755859375, 430.54998779296875, 424.1600036621094, 412.45001220703125, 415.4200134277344, 425.17999267578125, 439.2200012207031, 442.79998779296875, 445.6000061035156, 454.2099914550781, 464.5, 454.0, 454.0, 442.239990234375, 432.1400146484375, 447.0, 454.0, 475.5299987792969, 479.79998779296875, 490.8299865722656, 493.80999755859375, 495.7799987792969, 511.2799987792969, 520.9600219726562, 490.489990234375, 510.17999267578125, 504.3599853515625, 484.1400146484375, 484.20001220703125, 488.6099853515625, 487.20001220703125, 472.0199890136719, 467.5400085449219, 482.30999755859375, 487.760009765625, 484.1300048828125, 477.510009765625, 484.5, 490.2300109863281, 498.6499938964844, 501.20001220703125, 498.70001220703125, 486.67999267578125, 478.6300048828125, 466.54998779296875, 470.17999267578125, 476.45001220703125, 480.2099914550781, 479.1000061035156, 482.79998779296875, 483.5, 483.8900146484375, 490.0, 483.1600036621094, 485.0899963378906, 492.0799865722656, 521.25, 522.0, 517.5800170898438, 532.4500122070312, 537.3699951171875, 521.3200073242188, 485.9800109863281, 495.0, 492.57000732421875, 478.8399963378906, 476.80999755859375, 471.29998779296875, 481.6300048828125, 483.30999755859375, 463.2699890136719, 458.6000061035156, 466.32000732421875, 479.260009765625, 469.0, 467.82000732421875, 468.0299987792969, 477.8800048828125, 486.5299987792969, 489.2699890136719, 503.6000061035156, 502.70001220703125, 501.70001220703125, 504.1600036621094, 515.8200073242188, 524.1500244140625, 535.0, 538.239990234375, 537.2000122070312, 541.0, 535.0999755859375, 530.030029296875, 525.3800048828125, 522.260009765625, 488.25, 482.0, 481.3500061035156, 478.8999938964844, 482.92999267578125, 483.2799987792969, 479.3399963378906, 472.2099914550781, 475.0, 478.760009765625, 493.9800109863281, 503.45001220703125, 502.510009765625, 467.260009765625, 463.4100036621094, 478.260009765625, 480.42999267578125, 477.79998779296875, 477.29998779296875, 478.8500061035156, 477.7200012207031, 480.4700012207031, 481.57000732421875, 475.8399963378906, 475.8900146484375, 478.9200134277344, 481.8500061035156, 481.2699890136719, 491.9800109863281, 493.5, 496.0400085449219, 493.6400146484375, 497.7699890136719, 505.54998779296875, 491.2900085449219, 492.9100036621094, 494.8500061035156, 501.17999267578125, 513.5599975585938, 517.6900024414062, 526.4400024414062, 526.02001953125, 521.1500244140625, 520.5, 514.2000122070312, 512.2100219726562, 507.1300048828125, 515.47998046875, 523.6900024414062, 523.1500244140625, 515.0900268554688, 515.8900146484375, 499.5, 506.4200134277344, 504.510009765625, 497.95001220703125, 485.6700134277344, 493.010009765625, 499.5799865722656, 495.1000061035156, 493.5400085449219, 556.8599853515625, 570.4000244140625, 564.3499755859375, 548.6500244140625, 554.0599975585938, 515.72998046875, 530.739990234375, 530.1799926757812, 531.72998046875, 538.9299926757812, 538.239990234375, 537.510009765625, 545.47998046875, 543.7000122070312, 543.0, 553.4600219726562, 554.219970703125, 550.8499755859375, 552.72998046875, 543.030029296875, 538.22998046875, 538.8099975585938, 530.7899780273438, 518.280029296875, 539.0700073242188, 535.75, 538.0, 542.0, 546.02001953125, 517.8099975585938, 507.67999267578125, 498.7900085449219, 492.8500061035156, 503.82000732421875, 504.25, 510.7099914550781, 506.5899963378906, 508.0299987792969, 523.2100219726562, 514.2999877929688, 503.8500061035156, 501.6300048828125, 509.1300048828125, 529.4000244140625, 520.0, 497.0, 496.67999267578125, 504.3999938964844, 506.9100036621094, 515.4400024414062, 527.030029296875, 529.22998046875, 543.2999877929688, 541.4500122070312, 547.5700073242188, 547.1099853515625, 549.5800170898438, 550.2999877929688, 538.530029296875, 542.6599731445312, 539.510009765625, 545.530029296875, 546.2999877929688, 503.6000061035156, 500.54998779296875, 500.70001220703125, 503.0, 504.5799865722656, 503.3399963378906, 499.0], \"open\": [259.2799987792969, 270.20001220703125, 281.8800048828125, 302.1000061035156, 319.9800109863281, 317.7099914550781, 314.57000732421875, 330.9599914550781, 334.239990234375, 349.6000061035156, 354.0, 349.5, 351.9700012207031, 334.8900146484375, 328.25, 320.6000061035156, 328.7200012207031, 334.70001220703125, 335.8699951171875, 332.75, 339.67999267578125, 337.17999267578125, 342.6000061035156, 353.20001220703125, 357.0, 347.8999938964844, 338.0, 350.0, 348.0899963378906, 357.29998779296875, 351.75, 358.4700012207031, 355.79998779296875, 364.8500061035156, 360.0299987792969, 360.3399963378906, 367.010009765625, 362.9800109863281, 363.5, 362.4700012207031, 362.260009765625, 359.7200012207031, 351.4599914550781, 353.6000061035156, 360.1600036621094, 345.75, 352.0, 359.3699951171875, 355.80999755859375, 360.5, 361.0199890136719, 362.4700012207031, 366.3999938964844, 358.9100036621094, 374.0, 375.95001220703125, 359.0, 367.8699951171875, 361.0, 354.489990234375, 357.1600036621094, 359.0, 366.25, 369.260009765625, 370.07000732421875, 369.0, 365.1099853515625, 360.5400085449219, 365.7900085449219, 365.0, 360.69000244140625, 350.7099914550781, 355.0, 365.04998779296875, 355.0, 359.70001220703125, 375.45001220703125, 381.07000732421875, 374.489990234375, 368.3500061035156, 373.67999267578125, 369.55999755859375, 374.0, 378.0, 381.5299987792969, 377.69000244140625, 377.0, 367.9200134277344, 360.8999938964844, 361.6199951171875, 352.2900085449219, 348.7099914550781, 343.3399963378906, 356.3699951171875, 356.3900146484375, 351.2300109863281, 350.95001220703125, 358.010009765625, 355.5, 355.4100036621094, 354.3900146484375, 353.6000061035156, 350.54998779296875, 347.2200012207031, 343.55999755859375, 345.0, 354.3800048828125, 354.8399963378906, 357.3900146484375, 363.6499938964844, 355.0, 351.82000732421875, 347.2300109863281, 341.6300048828125, 342.69000244140625, 355.57000732421875, 361.7200012207031, 365.9100036621094, 365.0, 370.2699890136719, 370.75, 361.6000061035156, 363.20001220703125, 370.260009765625, 373.5, 374.8900146484375, 376.69000244140625, 378.2900085449219, 378.19000244140625, 379.05999755859375, 382.7699890136719, 381.1000061035156, 378.67999267578125, 372.94000244140625, 370.0899963378906, 366.25, 323.760009765625, 323.3999938964844, 312.0, 311.44000244140625, 310.510009765625, 318.8599853515625, 328.7900085449219, 335.9800109863281, 329.20001220703125, 325.1600036621094, 324.25, 317.489990234375, 310.9599914550781, 310.5799865722656, 302.55999755859375, 311.0299987792969, 313.739990234375, 305.4599914550781, 309.7699890136719, 308.010009765625, 299.5, 298.8599853515625, 306.25, 304.57000732421875, 301.6099853515625, 298.6499938964844, 295.0, 295.239990234375, 294.5400085449219, 289.4700012207031, 295.0, 298.7799987792969, 290.82000732421875, 291.25, 285.32000732421875, 293.3500061035156, 294.80999755859375, 291.1600036621094, 285.70001220703125, 288.1000061035156, 290.6099853515625, 294.2300109863281, 294.5, 294.989990234375, 291.55999755859375, 280.260009765625, 268.3500061035156, 262.5, 255.7100067138672, 266.4200134277344, 266.17999267578125, 264.0, 267.3500061035156, 263.6099853515625, 267.7799987792969, 268.20001220703125, 271.989990234375, 273.0299987792969, 270.0199890136719, 265.9700012207031, 284.79998779296875, 283.92999267578125, 283.82000732421875, 283.1199951171875, 304.489990234375, 289.3599853515625, 272.8900146484375, 271.1600036621094, 268.05999755859375, 271.80999755859375, 270.67999267578125, 278.04998779296875, 281.8699951171875, 284.3399963378906, 291.0, 288.70001220703125, 288.0, 289.989990234375, 288.19000244140625, 290.70001220703125, 288.7300109863281, 289.1600036621094, 295.32000732421875, 291.0299987792969, 283.25, 290.5899963378906, 296.0, 304.010009765625, 301.010009765625, 306.0, 309.1000061035156, 308.8299865722656, 315.0, 313.92999267578125, 315.7799987792969, 314.3900146484375, 302.2200012207031, 308.42999267578125, 305.2699890136719, 304.70001220703125, 307.3500061035156, 296.1199951171875, 294.489990234375, 295.6700134277344, 298.5, 300.8500061035156, 307.3599853515625, 316.260009765625, 324.5, 335.0, 337.760009765625, 334.010009765625, 334.6000061035156, 332.9599914550781, 329.0799865722656, 322.0, 326.1000061035156, 326.7799987792969, 323.1199951171875, 336.4700012207031, 331.489990234375, 342.0, 337.1300048828125, 331.79998779296875, 344.3999938964844, 338.67999267578125, 343.5, 341.0, 340.0, 332.54998779296875, 326.0400085449219, 348.4599914550781, 345.95001220703125, 345.8800048828125, 349.0, 341.1000061035156, 347.3900146484375, 347.239990234375, 361.0, 375.1300048828125, 369.6000061035156, 365.0400085449219, 365.0, 373.75, 377.17999267578125, 376.9599914550781, 381.4700012207031, 379.29998779296875, 388.1199951171875, 386.55999755859375, 385.3299865722656, 364.760009765625, 372.0, 366.30999755859375, 371.4599914550781, 364.2099914550781, 373.1099853515625, 381.0299987792969, 377.7699890136719, 381.0, 367.70001220703125, 343.8599853515625, 356.42999267578125, 358.9200134277344, 326.5, 330.510009765625, 306.6300048828125, 306.19000244140625, 302.3999938964844, 324.3299865722656, 342.30999755859375, 347.8900146484375, 369.989990234375, 361.0199890136719, 344.0, 359.0899963378906, 363.0, 367.92999267578125, 376.04998779296875, 364.0799865722656, 367.4700012207031, 365.2200012207031, 380.0, 374.010009765625, 371.05999755859375, 371.30999755859375, 397.5, 413.0, 437.0, 431.0, 435.1700134277344, 444.7699890136719, 429.7300109863281, 419.260009765625, 425.0, 425.0, 419.989990234375, 399.5299987792969, 410.30999755859375, 415.1000061035156, 417.7799987792969, 427.55999755859375, 429.29998779296875, 436.8900146484375, 434.1400146484375, 436.3299865722656, 442.0, 435.69000244140625, 444.8999938964844, 440.70001220703125, 451.1600036621094, 453.3999938964844, 454.25, 448.55999755859375, 437.0, 427.7699890136719, 410.3800048828125, 417.239990234375, 417.4599914550781, 418.8299865722656, 425.8699951171875, 426.95001220703125, 422.3900146484375, 407.2900085449219, 416.0, 421.6499938964844, 436.0, 428.20001220703125, 429.0, 421.3999938964844, 425.760009765625, 441.82000732421875, 448.7300109863281, 449.1199951171875, 455.010009765625, 466.5, 468.5400085449219, 458.8599853515625, 466.3900146484375, 445.2300109863281, 450.0199890136719, 454.0, 485.6400146484375, 480.7699890136719, 497.30999755859375, 498.5799865722656, 508.3999938964844, 519.72998046875, 567.97998046875, 517.0800170898438, 516.2999877929688, 526.47998046875, 494.8699951171875, 489.1400146484375, 506.0, 492.19000244140625, 491.1300048828125, 468.7699890136719, 484.510009765625, 496.0199890136719, 492.25, 480.7099914550781, 488.2900085449219, 490.8599853515625, 498.6499938964844, 508.67999267578125, 504.1099853515625, 505.45001220703125, 493.3500061035156, 479.75, 471.3399963378906, 478.3999938964844, 482.82000732421875, 484.19000244140625, 484.3500061035156, 493.92999267578125, 484.69000244140625, 496.4599914550781, 495.44000244140625, 488.19000244140625, 492.5, 537.780029296875, 532.0, 521.1599731445312, 532.5999755859375, 553.780029296875, 545.0, 520.1799926757812, 498.3999938964844, 519.2100219726562, 503.3500061035156, 486.489990234375, 480.6199951171875, 484.0, 499.989990234375, 475.1600036621094, 472.510009765625, 467.69000244140625, 489.010009765625, 491.0400085449219, 470.5299987792969, 474.3900146484375, 489.1099853515625, 489.5, 492.57000732421875, 506.0299987792969, 516.4299926757812, 506.79998779296875, 518.719970703125, 518.0, 533.47998046875, 537.8300170898438, 548.8099975585938, 540.5599975585938, 562.6099853515625, 545.52001953125, 549.5, 537.0700073242188, 528.1400146484375, 501.0299987792969, 494.69000244140625, 488.1099853515625, 487.0299987792969, 490.010009765625, 486.3599853515625, 488.5, 502.010009765625, 478.8699951171875, 484.92999267578125, 495.3599853515625, 506.55999755859375, 515.0, 485.5400085449219, 470.95001220703125, 483.0, 491.0, 486.7699890136719, 480.0, 480.1199951171875, 481.95001220703125, 482.0, 485.2200012207031, 490.4599914550781, 478.8399963378906, 485.1300048828125, 486.5799865722656, 490.0799865722656, 492.3399963378906, 501.6199951171875, 502.989990234375, 497.5, 500.010009765625, 517.9000244140625, 510.5299987792969, 494.55999755859375, 495.0, 505.44000244140625, 518.5, 520.1099853515625, 529.0, 533.2000122070312, 530.0499877929688, 527.6900024414062, 524.760009765625, 515.1199951171875, 516.4299926757812, 519.9000244140625, 530.1300048828125, 525.530029296875, 539.0, 521.5499877929688, 511.9700012207031, 508.2799987792969, 511.30999755859375, 507.8399963378906, 500.0, 495.5, 507.3500061035156, 500.0, 501.0, 565.4199829101562, 582.4500122070312, 582.0999755859375, 567.0, 554.72998046875, 550.7100219726562, 535.8800048828125, 538.0, 536.7899780273438, 542.010009765625, 550.1699829101562, 539.8099975585938, 552.260009765625, 555.0, 546.0, 562.5, 564.4400024414062, 556.9400024414062, 557.2899780273438, 550.989990234375, 549.0, 548.0, 534.989990234375, 525.0, 539.7999877929688, 550.27001953125, 546.510009765625, 545.5700073242188, 553.3400268554688, 545.9299926757812, 521.5, 511.9800109863281, 514.4600219726562, 507.30999755859375, 513.5, 512.2000122070312, 512.5, 516.3200073242188, 524.469970703125, 522.0, 516.4000244140625, 504.9599914550781, 509.1300048828125, 529.8699951171875, 533.780029296875, 516.989990234375, 502.82000732421875, 505.6600036621094, 510.510009765625, 515.6699829101562, 529.9299926757812, 540.010009765625, 544.8099975585938, 543.5, 551.1300048828125, 552.6900024414062, 551.0499877929688, 557.0, 554.8699951171875, 544.1699829101562, 550.5399780273438, 546.9000244140625, 554.4199829101562, 508.0, 513.8200073242188, 509.010009765625, 506.760009765625, 512.6199951171875, 505.20001220703125, 507.6000061035156], \"type\": \"candlestick\", \"x\": [\"2019-01-02T00:00:00\", \"2019-01-03T00:00:00\", \"2019-01-04T00:00:00\", \"2019-01-07T00:00:00\", \"2019-01-08T00:00:00\", \"2019-01-09T00:00:00\", \"2019-01-10T00:00:00\", \"2019-01-11T00:00:00\", \"2019-01-14T00:00:00\", \"2019-01-15T00:00:00\", \"2019-01-16T00:00:00\", \"2019-01-17T00:00:00\", \"2019-01-18T00:00:00\", \"2019-01-22T00:00:00\", \"2019-01-23T00:00:00\", \"2019-01-24T00:00:00\", \"2019-01-25T00:00:00\", \"2019-01-28T00:00:00\", \"2019-01-29T00:00:00\", \"2019-01-30T00:00:00\", \"2019-01-31T00:00:00\", \"2019-02-01T00:00:00\", \"2019-02-04T00:00:00\", \"2019-02-05T00:00:00\", \"2019-02-06T00:00:00\", \"2019-02-07T00:00:00\", \"2019-02-08T00:00:00\", \"2019-02-11T00:00:00\", \"2019-02-12T00:00:00\", \"2019-02-13T00:00:00\", \"2019-02-14T00:00:00\", \"2019-02-15T00:00:00\", \"2019-02-19T00:00:00\", \"2019-02-20T00:00:00\", \"2019-02-21T00:00:00\", \"2019-02-22T00:00:00\", \"2019-02-25T00:00:00\", \"2019-02-26T00:00:00\", \"2019-02-27T00:00:00\", \"2019-02-28T00:00:00\", \"2019-03-01T00:00:00\", \"2019-03-04T00:00:00\", \"2019-03-05T00:00:00\", \"2019-03-06T00:00:00\", \"2019-03-07T00:00:00\", \"2019-03-08T00:00:00\", \"2019-03-11T00:00:00\", \"2019-03-12T00:00:00\", \"2019-03-13T00:00:00\", \"2019-03-14T00:00:00\", \"2019-03-15T00:00:00\", \"2019-03-18T00:00:00\", \"2019-03-19T00:00:00\", \"2019-03-20T00:00:00\", \"2019-03-21T00:00:00\", \"2019-03-22T00:00:00\", \"2019-03-25T00:00:00\", \"2019-03-26T00:00:00\", \"2019-03-27T00:00:00\", \"2019-03-28T00:00:00\", \"2019-03-29T00:00:00\", \"2019-04-01T00:00:00\", \"2019-04-02T00:00:00\", \"2019-04-03T00:00:00\", \"2019-04-04T00:00:00\", \"2019-04-05T00:00:00\", \"2019-04-08T00:00:00\", \"2019-04-09T00:00:00\", \"2019-04-10T00:00:00\", \"2019-04-11T00:00:00\", \"2019-04-12T00:00:00\", \"2019-04-15T00:00:00\", \"2019-04-16T00:00:00\", \"2019-04-17T00:00:00\", \"2019-04-18T00:00:00\", \"2019-04-22T00:00:00\", \"2019-04-23T00:00:00\", \"2019-04-24T00:00:00\", \"2019-04-25T00:00:00\", \"2019-04-26T00:00:00\", \"2019-04-29T00:00:00\", \"2019-04-30T00:00:00\", \"2019-05-01T00:00:00\", \"2019-05-02T00:00:00\", \"2019-05-03T00:00:00\", \"2019-05-06T00:00:00\", \"2019-05-07T00:00:00\", \"2019-05-08T00:00:00\", \"2019-05-09T00:00:00\", \"2019-05-10T00:00:00\", \"2019-05-13T00:00:00\", \"2019-05-14T00:00:00\", \"2019-05-15T00:00:00\", \"2019-05-16T00:00:00\", \"2019-05-17T00:00:00\", \"2019-05-20T00:00:00\", \"2019-05-21T00:00:00\", \"2019-05-22T00:00:00\", \"2019-05-23T00:00:00\", \"2019-05-24T00:00:00\", \"2019-05-28T00:00:00\", \"2019-05-29T00:00:00\", \"2019-05-30T00:00:00\", \"2019-05-31T00:00:00\", \"2019-06-03T00:00:00\", \"2019-06-04T00:00:00\", \"2019-06-05T00:00:00\", \"2019-06-06T00:00:00\", \"2019-06-07T00:00:00\", \"2019-06-10T00:00:00\", \"2019-06-11T00:00:00\", \"2019-06-12T00:00:00\", \"2019-06-13T00:00:00\", \"2019-06-14T00:00:00\", \"2019-06-17T00:00:00\", \"2019-06-18T00:00:00\", \"2019-06-19T00:00:00\", \"2019-06-20T00:00:00\", \"2019-06-21T00:00:00\", \"2019-06-24T00:00:00\", \"2019-06-25T00:00:00\", \"2019-06-26T00:00:00\", \"2019-06-27T00:00:00\", \"2019-06-28T00:00:00\", \"2019-07-01T00:00:00\", \"2019-07-02T00:00:00\", \"2019-07-03T00:00:00\", \"2019-07-05T00:00:00\", \"2019-07-08T00:00:00\", \"2019-07-09T00:00:00\", \"2019-07-10T00:00:00\", \"2019-07-11T00:00:00\", \"2019-07-12T00:00:00\", \"2019-07-15T00:00:00\", \"2019-07-16T00:00:00\", \"2019-07-17T00:00:00\", \"2019-07-18T00:00:00\", \"2019-07-19T00:00:00\", \"2019-07-22T00:00:00\", \"2019-07-23T00:00:00\", \"2019-07-24T00:00:00\", \"2019-07-25T00:00:00\", \"2019-07-26T00:00:00\", \"2019-07-29T00:00:00\", \"2019-07-30T00:00:00\", \"2019-07-31T00:00:00\", \"2019-08-01T00:00:00\", \"2019-08-02T00:00:00\", \"2019-08-05T00:00:00\", \"2019-08-06T00:00:00\", \"2019-08-07T00:00:00\", \"2019-08-08T00:00:00\", \"2019-08-09T00:00:00\", \"2019-08-12T00:00:00\", \"2019-08-13T00:00:00\", \"2019-08-14T00:00:00\", \"2019-08-15T00:00:00\", \"2019-08-16T00:00:00\", \"2019-08-19T00:00:00\", \"2019-08-20T00:00:00\", \"2019-08-21T00:00:00\", \"2019-08-22T00:00:00\", \"2019-08-23T00:00:00\", \"2019-08-26T00:00:00\", \"2019-08-27T00:00:00\", \"2019-08-28T00:00:00\", \"2019-08-29T00:00:00\", \"2019-08-30T00:00:00\", \"2019-09-03T00:00:00\", \"2019-09-04T00:00:00\", \"2019-09-05T00:00:00\", \"2019-09-06T00:00:00\", \"2019-09-09T00:00:00\", \"2019-09-10T00:00:00\", \"2019-09-11T00:00:00\", \"2019-09-12T00:00:00\", \"2019-09-13T00:00:00\", \"2019-09-16T00:00:00\", \"2019-09-17T00:00:00\", \"2019-09-18T00:00:00\", \"2019-09-19T00:00:00\", \"2019-09-20T00:00:00\", \"2019-09-23T00:00:00\", \"2019-09-24T00:00:00\", \"2019-09-25T00:00:00\", \"2019-09-26T00:00:00\", \"2019-09-27T00:00:00\", \"2019-09-30T00:00:00\", \"2019-10-01T00:00:00\", \"2019-10-02T00:00:00\", \"2019-10-03T00:00:00\", \"2019-10-04T00:00:00\", \"2019-10-07T00:00:00\", \"2019-10-08T00:00:00\", \"2019-10-09T00:00:00\", \"2019-10-10T00:00:00\", \"2019-10-11T00:00:00\", \"2019-10-14T00:00:00\", \"2019-10-15T00:00:00\", \"2019-10-16T00:00:00\", \"2019-10-17T00:00:00\", \"2019-10-18T00:00:00\", \"2019-10-21T00:00:00\", \"2019-10-22T00:00:00\", \"2019-10-23T00:00:00\", \"2019-10-24T00:00:00\", \"2019-10-25T00:00:00\", \"2019-10-28T00:00:00\", \"2019-10-29T00:00:00\", \"2019-10-30T00:00:00\", \"2019-10-31T00:00:00\", \"2019-11-01T00:00:00\", \"2019-11-04T00:00:00\", \"2019-11-05T00:00:00\", \"2019-11-06T00:00:00\", \"2019-11-07T00:00:00\", \"2019-11-08T00:00:00\", \"2019-11-11T00:00:00\", \"2019-11-12T00:00:00\", \"2019-11-13T00:00:00\", \"2019-11-14T00:00:00\", \"2019-11-15T00:00:00\", \"2019-11-18T00:00:00\", \"2019-11-19T00:00:00\", \"2019-11-20T00:00:00\", \"2019-11-21T00:00:00\", \"2019-11-22T00:00:00\", \"2019-11-25T00:00:00\", \"2019-11-26T00:00:00\", \"2019-11-27T00:00:00\", \"2019-11-29T00:00:00\", \"2019-12-02T00:00:00\", \"2019-12-03T00:00:00\", \"2019-12-04T00:00:00\", \"2019-12-05T00:00:00\", \"2019-12-06T00:00:00\", \"2019-12-09T00:00:00\", \"2019-12-10T00:00:00\", \"2019-12-11T00:00:00\", \"2019-12-12T00:00:00\", \"2019-12-13T00:00:00\", \"2019-12-16T00:00:00\", \"2019-12-17T00:00:00\", \"2019-12-18T00:00:00\", \"2019-12-19T00:00:00\", \"2019-12-20T00:00:00\", \"2019-12-23T00:00:00\", \"2019-12-24T00:00:00\", \"2019-12-26T00:00:00\", \"2019-12-27T00:00:00\", \"2019-12-30T00:00:00\", \"2019-12-31T00:00:00\", \"2020-01-02T00:00:00\", \"2020-01-03T00:00:00\", \"2020-01-06T00:00:00\", \"2020-01-07T00:00:00\", \"2020-01-08T00:00:00\", \"2020-01-09T00:00:00\", \"2020-01-10T00:00:00\", \"2020-01-13T00:00:00\", \"2020-01-14T00:00:00\", \"2020-01-15T00:00:00\", \"2020-01-16T00:00:00\", \"2020-01-17T00:00:00\", \"2020-01-21T00:00:00\", \"2020-01-22T00:00:00\", \"2020-01-23T00:00:00\", \"2020-01-24T00:00:00\", \"2020-01-27T00:00:00\", \"2020-01-28T00:00:00\", \"2020-01-29T00:00:00\", \"2020-01-30T00:00:00\", \"2020-01-31T00:00:00\", \"2020-02-03T00:00:00\", \"2020-02-04T00:00:00\", \"2020-02-05T00:00:00\", \"2020-02-06T00:00:00\", \"2020-02-07T00:00:00\", \"2020-02-10T00:00:00\", \"2020-02-11T00:00:00\", \"2020-02-12T00:00:00\", \"2020-02-13T00:00:00\", \"2020-02-14T00:00:00\", \"2020-02-18T00:00:00\", \"2020-02-19T00:00:00\", \"2020-02-20T00:00:00\", \"2020-02-21T00:00:00\", \"2020-02-24T00:00:00\", \"2020-02-25T00:00:00\", \"2020-02-26T00:00:00\", \"2020-02-27T00:00:00\", \"2020-02-28T00:00:00\", \"2020-03-02T00:00:00\", \"2020-03-03T00:00:00\", \"2020-03-04T00:00:00\", \"2020-03-05T00:00:00\", \"2020-03-06T00:00:00\", \"2020-03-09T00:00:00\", \"2020-03-10T00:00:00\", \"2020-03-11T00:00:00\", \"2020-03-12T00:00:00\", \"2020-03-13T00:00:00\", \"2020-03-16T00:00:00\", \"2020-03-17T00:00:00\", \"2020-03-18T00:00:00\", \"2020-03-19T00:00:00\", \"2020-03-20T00:00:00\", \"2020-03-23T00:00:00\", \"2020-03-24T00:00:00\", \"2020-03-25T00:00:00\", \"2020-03-26T00:00:00\", \"2020-03-27T00:00:00\", \"2020-03-30T00:00:00\", \"2020-03-31T00:00:00\", \"2020-04-01T00:00:00\", \"2020-04-02T00:00:00\", \"2020-04-03T00:00:00\", \"2020-04-06T00:00:00\", \"2020-04-07T00:00:00\", \"2020-04-08T00:00:00\", \"2020-04-09T00:00:00\", \"2020-04-13T00:00:00\", \"2020-04-14T00:00:00\", \"2020-04-15T00:00:00\", \"2020-04-16T00:00:00\", \"2020-04-17T00:00:00\", \"2020-04-20T00:00:00\", \"2020-04-21T00:00:00\", \"2020-04-22T00:00:00\", \"2020-04-23T00:00:00\", \"2020-04-24T00:00:00\", \"2020-04-27T00:00:00\", \"2020-04-28T00:00:00\", \"2020-04-29T00:00:00\", \"2020-04-30T00:00:00\", \"2020-05-01T00:00:00\", \"2020-05-04T00:00:00\", \"2020-05-05T00:00:00\", \"2020-05-06T00:00:00\", \"2020-05-07T00:00:00\", \"2020-05-08T00:00:00\", \"2020-05-11T00:00:00\", \"2020-05-12T00:00:00\", \"2020-05-13T00:00:00\", \"2020-05-14T00:00:00\", \"2020-05-15T00:00:00\", \"2020-05-18T00:00:00\", \"2020-05-19T00:00:00\", \"2020-05-20T00:00:00\", \"2020-05-21T00:00:00\", \"2020-05-22T00:00:00\", \"2020-05-26T00:00:00\", \"2020-05-27T00:00:00\", \"2020-05-28T00:00:00\", \"2020-05-29T00:00:00\", \"2020-06-01T00:00:00\", \"2020-06-02T00:00:00\", \"2020-06-03T00:00:00\", \"2020-06-04T00:00:00\", \"2020-06-05T00:00:00\", \"2020-06-08T00:00:00\", \"2020-06-09T00:00:00\", \"2020-06-10T00:00:00\", \"2020-06-11T00:00:00\", \"2020-06-12T00:00:00\", \"2020-06-15T00:00:00\", \"2020-06-16T00:00:00\", \"2020-06-17T00:00:00\", \"2020-06-18T00:00:00\", \"2020-06-19T00:00:00\", \"2020-06-22T00:00:00\", \"2020-06-23T00:00:00\", \"2020-06-24T00:00:00\", \"2020-06-25T00:00:00\", \"2020-06-26T00:00:00\", \"2020-06-29T00:00:00\", \"2020-06-30T00:00:00\", \"2020-07-01T00:00:00\", \"2020-07-02T00:00:00\", \"2020-07-06T00:00:00\", \"2020-07-07T00:00:00\", \"2020-07-08T00:00:00\", \"2020-07-09T00:00:00\", \"2020-07-10T00:00:00\", \"2020-07-13T00:00:00\", \"2020-07-14T00:00:00\", \"2020-07-15T00:00:00\", \"2020-07-16T00:00:00\", \"2020-07-17T00:00:00\", \"2020-07-20T00:00:00\", \"2020-07-21T00:00:00\", \"2020-07-22T00:00:00\", \"2020-07-23T00:00:00\", \"2020-07-24T00:00:00\", \"2020-07-27T00:00:00\", \"2020-07-28T00:00:00\", \"2020-07-29T00:00:00\", \"2020-07-30T00:00:00\", \"2020-07-31T00:00:00\", \"2020-08-03T00:00:00\", \"2020-08-04T00:00:00\", \"2020-08-05T00:00:00\", \"2020-08-06T00:00:00\", \"2020-08-07T00:00:00\", \"2020-08-10T00:00:00\", \"2020-08-11T00:00:00\", \"2020-08-12T00:00:00\", \"2020-08-13T00:00:00\", \"2020-08-14T00:00:00\", \"2020-08-17T00:00:00\", \"2020-08-18T00:00:00\", \"2020-08-19T00:00:00\", \"2020-08-20T00:00:00\", \"2020-08-21T00:00:00\", \"2020-08-24T00:00:00\", \"2020-08-25T00:00:00\", \"2020-08-26T00:00:00\", \"2020-08-27T00:00:00\", \"2020-08-28T00:00:00\", \"2020-08-31T00:00:00\", \"2020-09-01T00:00:00\", \"2020-09-02T00:00:00\", \"2020-09-03T00:00:00\", \"2020-09-04T00:00:00\", \"2020-09-08T00:00:00\", \"2020-09-09T00:00:00\", \"2020-09-10T00:00:00\", \"2020-09-11T00:00:00\", \"2020-09-14T00:00:00\", \"2020-09-15T00:00:00\", \"2020-09-16T00:00:00\", \"2020-09-17T00:00:00\", \"2020-09-18T00:00:00\", \"2020-09-21T00:00:00\", \"2020-09-22T00:00:00\", \"2020-09-23T00:00:00\", \"2020-09-24T00:00:00\", \"2020-09-25T00:00:00\", \"2020-09-28T00:00:00\", \"2020-09-29T00:00:00\", \"2020-09-30T00:00:00\", \"2020-10-01T00:00:00\", \"2020-10-02T00:00:00\", \"2020-10-05T00:00:00\", \"2020-10-06T00:00:00\", \"2020-10-07T00:00:00\", \"2020-10-08T00:00:00\", \"2020-10-09T00:00:00\", \"2020-10-12T00:00:00\", \"2020-10-13T00:00:00\", \"2020-10-14T00:00:00\", \"2020-10-15T00:00:00\", \"2020-10-16T00:00:00\", \"2020-10-19T00:00:00\", \"2020-10-20T00:00:00\", \"2020-10-21T00:00:00\", \"2020-10-22T00:00:00\", \"2020-10-23T00:00:00\", \"2020-10-26T00:00:00\", \"2020-10-27T00:00:00\", \"2020-10-28T00:00:00\", \"2020-10-29T00:00:00\", \"2020-10-30T00:00:00\", \"2020-11-02T00:00:00\", \"2020-11-03T00:00:00\", \"2020-11-04T00:00:00\", \"2020-11-05T00:00:00\", \"2020-11-06T00:00:00\", \"2020-11-09T00:00:00\", \"2020-11-10T00:00:00\", \"2020-11-11T00:00:00\", \"2020-11-12T00:00:00\", \"2020-11-13T00:00:00\", \"2020-11-16T00:00:00\", \"2020-11-17T00:00:00\", \"2020-11-18T00:00:00\", \"2020-11-19T00:00:00\", \"2020-11-20T00:00:00\", \"2020-11-23T00:00:00\", \"2020-11-24T00:00:00\", \"2020-11-25T00:00:00\", \"2020-11-27T00:00:00\", \"2020-11-30T00:00:00\", \"2020-12-01T00:00:00\", \"2020-12-02T00:00:00\", \"2020-12-03T00:00:00\", \"2020-12-04T00:00:00\", \"2020-12-07T00:00:00\", \"2020-12-08T00:00:00\", \"2020-12-09T00:00:00\", \"2020-12-10T00:00:00\", \"2020-12-11T00:00:00\", \"2020-12-14T00:00:00\", \"2020-12-15T00:00:00\", \"2020-12-16T00:00:00\", \"2020-12-17T00:00:00\", \"2020-12-18T00:00:00\", \"2020-12-21T00:00:00\", \"2020-12-22T00:00:00\", \"2020-12-23T00:00:00\", \"2020-12-24T00:00:00\", \"2020-12-28T00:00:00\", \"2020-12-29T00:00:00\", \"2020-12-30T00:00:00\", \"2020-12-31T00:00:00\", \"2021-01-04T00:00:00\", \"2021-01-05T00:00:00\", \"2021-01-06T00:00:00\", \"2021-01-07T00:00:00\", \"2021-01-08T00:00:00\", \"2021-01-11T00:00:00\", \"2021-01-12T00:00:00\", \"2021-01-13T00:00:00\", \"2021-01-14T00:00:00\", \"2021-01-15T00:00:00\", \"2021-01-19T00:00:00\", \"2021-01-20T00:00:00\", \"2021-01-21T00:00:00\", \"2021-01-22T00:00:00\", \"2021-01-25T00:00:00\", \"2021-01-26T00:00:00\", \"2021-01-27T00:00:00\", \"2021-01-28T00:00:00\", \"2021-01-29T00:00:00\", \"2021-02-01T00:00:00\", \"2021-02-02T00:00:00\", \"2021-02-03T00:00:00\", \"2021-02-04T00:00:00\", \"2021-02-05T00:00:00\", \"2021-02-08T00:00:00\", \"2021-02-09T00:00:00\", \"2021-02-10T00:00:00\", \"2021-02-11T00:00:00\", \"2021-02-12T00:00:00\", \"2021-02-16T00:00:00\", \"2021-02-17T00:00:00\", \"2021-02-18T00:00:00\", \"2021-02-19T00:00:00\", \"2021-02-22T00:00:00\", \"2021-02-23T00:00:00\", \"2021-02-24T00:00:00\", \"2021-02-25T00:00:00\", \"2021-02-26T00:00:00\", \"2021-03-01T00:00:00\", \"2021-03-02T00:00:00\", \"2021-03-03T00:00:00\", \"2021-03-04T00:00:00\", \"2021-03-05T00:00:00\", \"2021-03-08T00:00:00\", \"2021-03-09T00:00:00\", \"2021-03-10T00:00:00\", \"2021-03-11T00:00:00\", \"2021-03-12T00:00:00\", \"2021-03-15T00:00:00\", \"2021-03-16T00:00:00\", \"2021-03-17T00:00:00\", \"2021-03-18T00:00:00\", \"2021-03-19T00:00:00\", \"2021-03-22T00:00:00\", \"2021-03-23T00:00:00\", \"2021-03-24T00:00:00\", \"2021-03-25T00:00:00\", \"2021-03-26T00:00:00\", \"2021-03-29T00:00:00\", \"2021-03-30T00:00:00\", \"2021-03-31T00:00:00\", \"2021-04-01T00:00:00\", \"2021-04-05T00:00:00\", \"2021-04-06T00:00:00\", \"2021-04-07T00:00:00\", \"2021-04-08T00:00:00\", \"2021-04-09T00:00:00\", \"2021-04-12T00:00:00\", \"2021-04-13T00:00:00\", \"2021-04-14T00:00:00\", \"2021-04-15T00:00:00\", \"2021-04-16T00:00:00\", \"2021-04-19T00:00:00\", \"2021-04-20T00:00:00\", \"2021-04-21T00:00:00\", \"2021-04-22T00:00:00\", \"2021-04-23T00:00:00\", \"2021-04-26T00:00:00\", \"2021-04-27T00:00:00\", \"2021-04-28T00:00:00\", \"2021-04-29T00:00:00\"]}],\n",
              "                        {\"template\": {\"data\": {\"bar\": [{\"error_x\": {\"color\": \"#2a3f5f\"}, \"error_y\": {\"color\": \"#2a3f5f\"}, \"marker\": {\"line\": {\"color\": \"#E5ECF6\", \"width\": 0.5}}, \"type\": \"bar\"}], \"barpolar\": [{\"marker\": {\"line\": {\"color\": \"#E5ECF6\", \"width\": 0.5}}, \"type\": \"barpolar\"}], \"carpet\": [{\"aaxis\": {\"endlinecolor\": \"#2a3f5f\", \"gridcolor\": \"white\", \"linecolor\": \"white\", \"minorgridcolor\": \"white\", \"startlinecolor\": \"#2a3f5f\"}, \"baxis\": {\"endlinecolor\": \"#2a3f5f\", \"gridcolor\": \"white\", \"linecolor\": \"white\", \"minorgridcolor\": \"white\", \"startlinecolor\": \"#2a3f5f\"}, \"type\": \"carpet\"}], \"choropleth\": [{\"colorbar\": {\"outlinewidth\": 0, \"ticks\": \"\"}, \"type\": \"choropleth\"}], \"contour\": [{\"colorbar\": {\"outlinewidth\": 0, \"ticks\": \"\"}, \"colorscale\": [[0.0, \"#0d0887\"], [0.1111111111111111, \"#46039f\"], [0.2222222222222222, \"#7201a8\"], [0.3333333333333333, \"#9c179e\"], [0.4444444444444444, \"#bd3786\"], [0.5555555555555556, \"#d8576b\"], [0.6666666666666666, \"#ed7953\"], [0.7777777777777778, \"#fb9f3a\"], [0.8888888888888888, \"#fdca26\"], [1.0, \"#f0f921\"]], \"type\": \"contour\"}], \"contourcarpet\": [{\"colorbar\": {\"outlinewidth\": 0, \"ticks\": \"\"}, \"type\": \"contourcarpet\"}], \"heatmap\": [{\"colorbar\": {\"outlinewidth\": 0, \"ticks\": \"\"}, \"colorscale\": [[0.0, \"#0d0887\"], [0.1111111111111111, \"#46039f\"], [0.2222222222222222, \"#7201a8\"], [0.3333333333333333, \"#9c179e\"], [0.4444444444444444, \"#bd3786\"], [0.5555555555555556, \"#d8576b\"], [0.6666666666666666, \"#ed7953\"], [0.7777777777777778, \"#fb9f3a\"], [0.8888888888888888, \"#fdca26\"], [1.0, \"#f0f921\"]], \"type\": \"heatmap\"}], \"heatmapgl\": [{\"colorbar\": {\"outlinewidth\": 0, \"ticks\": \"\"}, \"colorscale\": [[0.0, \"#0d0887\"], [0.1111111111111111, \"#46039f\"], [0.2222222222222222, \"#7201a8\"], [0.3333333333333333, \"#9c179e\"], [0.4444444444444444, \"#bd3786\"], [0.5555555555555556, \"#d8576b\"], [0.6666666666666666, \"#ed7953\"], [0.7777777777777778, \"#fb9f3a\"], [0.8888888888888888, \"#fdca26\"], [1.0, \"#f0f921\"]], \"type\": \"heatmapgl\"}], \"histogram\": [{\"marker\": {\"colorbar\": {\"outlinewidth\": 0, \"ticks\": \"\"}}, \"type\": \"histogram\"}], \"histogram2d\": [{\"colorbar\": {\"outlinewidth\": 0, \"ticks\": \"\"}, \"colorscale\": [[0.0, \"#0d0887\"], [0.1111111111111111, \"#46039f\"], [0.2222222222222222, \"#7201a8\"], [0.3333333333333333, \"#9c179e\"], [0.4444444444444444, \"#bd3786\"], [0.5555555555555556, \"#d8576b\"], [0.6666666666666666, \"#ed7953\"], [0.7777777777777778, \"#fb9f3a\"], [0.8888888888888888, \"#fdca26\"], [1.0, \"#f0f921\"]], \"type\": \"histogram2d\"}], \"histogram2dcontour\": [{\"colorbar\": {\"outlinewidth\": 0, \"ticks\": \"\"}, \"colorscale\": [[0.0, \"#0d0887\"], [0.1111111111111111, \"#46039f\"], [0.2222222222222222, \"#7201a8\"], [0.3333333333333333, \"#9c179e\"], [0.4444444444444444, \"#bd3786\"], [0.5555555555555556, \"#d8576b\"], [0.6666666666666666, \"#ed7953\"], [0.7777777777777778, \"#fb9f3a\"], [0.8888888888888888, \"#fdca26\"], [1.0, \"#f0f921\"]], \"type\": \"histogram2dcontour\"}], \"mesh3d\": [{\"colorbar\": {\"outlinewidth\": 0, \"ticks\": \"\"}, \"type\": \"mesh3d\"}], \"parcoords\": [{\"line\": {\"colorbar\": {\"outlinewidth\": 0, \"ticks\": \"\"}}, \"type\": \"parcoords\"}], \"pie\": [{\"automargin\": true, \"type\": \"pie\"}], \"scatter\": [{\"marker\": {\"colorbar\": {\"outlinewidth\": 0, \"ticks\": \"\"}}, \"type\": \"scatter\"}], \"scatter3d\": [{\"line\": {\"colorbar\": {\"outlinewidth\": 0, \"ticks\": \"\"}}, \"marker\": {\"colorbar\": {\"outlinewidth\": 0, \"ticks\": \"\"}}, \"type\": \"scatter3d\"}], \"scattercarpet\": [{\"marker\": {\"colorbar\": {\"outlinewidth\": 0, \"ticks\": \"\"}}, \"type\": \"scattercarpet\"}], \"scattergeo\": [{\"marker\": {\"colorbar\": {\"outlinewidth\": 0, \"ticks\": \"\"}}, \"type\": \"scattergeo\"}], \"scattergl\": [{\"marker\": {\"colorbar\": {\"outlinewidth\": 0, \"ticks\": \"\"}}, \"type\": \"scattergl\"}], \"scattermapbox\": [{\"marker\": {\"colorbar\": {\"outlinewidth\": 0, \"ticks\": \"\"}}, \"type\": \"scattermapbox\"}], \"scatterpolar\": [{\"marker\": {\"colorbar\": {\"outlinewidth\": 0, \"ticks\": \"\"}}, \"type\": \"scatterpolar\"}], \"scatterpolargl\": [{\"marker\": {\"colorbar\": {\"outlinewidth\": 0, \"ticks\": \"\"}}, \"type\": \"scatterpolargl\"}], \"scatterternary\": [{\"marker\": {\"colorbar\": {\"outlinewidth\": 0, \"ticks\": \"\"}}, \"type\": \"scatterternary\"}], \"surface\": [{\"colorbar\": {\"outlinewidth\": 0, \"ticks\": \"\"}, \"colorscale\": [[0.0, \"#0d0887\"], [0.1111111111111111, \"#46039f\"], [0.2222222222222222, \"#7201a8\"], [0.3333333333333333, \"#9c179e\"], [0.4444444444444444, \"#bd3786\"], [0.5555555555555556, \"#d8576b\"], [0.6666666666666666, \"#ed7953\"], [0.7777777777777778, \"#fb9f3a\"], [0.8888888888888888, \"#fdca26\"], [1.0, \"#f0f921\"]], \"type\": \"surface\"}], \"table\": [{\"cells\": {\"fill\": {\"color\": \"#EBF0F8\"}, \"line\": {\"color\": \"white\"}}, \"header\": {\"fill\": {\"color\": \"#C8D4E3\"}, \"line\": {\"color\": \"white\"}}, \"type\": \"table\"}]}, \"layout\": {\"annotationdefaults\": {\"arrowcolor\": \"#2a3f5f\", \"arrowhead\": 0, \"arrowwidth\": 1}, \"coloraxis\": {\"colorbar\": {\"outlinewidth\": 0, \"ticks\": \"\"}}, \"colorscale\": {\"diverging\": [[0, \"#8e0152\"], [0.1, \"#c51b7d\"], [0.2, \"#de77ae\"], [0.3, \"#f1b6da\"], [0.4, \"#fde0ef\"], [0.5, \"#f7f7f7\"], [0.6, \"#e6f5d0\"], [0.7, \"#b8e186\"], [0.8, \"#7fbc41\"], [0.9, \"#4d9221\"], [1, \"#276419\"]], \"sequential\": [[0.0, \"#0d0887\"], [0.1111111111111111, \"#46039f\"], [0.2222222222222222, \"#7201a8\"], [0.3333333333333333, \"#9c179e\"], [0.4444444444444444, \"#bd3786\"], [0.5555555555555556, \"#d8576b\"], [0.6666666666666666, \"#ed7953\"], [0.7777777777777778, \"#fb9f3a\"], [0.8888888888888888, \"#fdca26\"], [1.0, \"#f0f921\"]], \"sequentialminus\": [[0.0, \"#0d0887\"], [0.1111111111111111, \"#46039f\"], [0.2222222222222222, \"#7201a8\"], [0.3333333333333333, \"#9c179e\"], [0.4444444444444444, \"#bd3786\"], [0.5555555555555556, \"#d8576b\"], [0.6666666666666666, \"#ed7953\"], [0.7777777777777778, \"#fb9f3a\"], [0.8888888888888888, \"#fdca26\"], [1.0, \"#f0f921\"]]}, \"colorway\": [\"#636efa\", \"#EF553B\", \"#00cc96\", \"#ab63fa\", \"#FFA15A\", \"#19d3f3\", \"#FF6692\", \"#B6E880\", \"#FF97FF\", \"#FECB52\"], \"font\": {\"color\": \"#2a3f5f\"}, \"geo\": {\"bgcolor\": \"white\", \"lakecolor\": \"white\", \"landcolor\": \"#E5ECF6\", \"showlakes\": true, \"showland\": true, \"subunitcolor\": \"white\"}, \"hoverlabel\": {\"align\": \"left\"}, \"hovermode\": \"closest\", \"mapbox\": {\"style\": \"light\"}, \"paper_bgcolor\": \"white\", \"plot_bgcolor\": \"#E5ECF6\", \"polar\": {\"angularaxis\": {\"gridcolor\": \"white\", \"linecolor\": \"white\", \"ticks\": \"\"}, \"bgcolor\": \"#E5ECF6\", \"radialaxis\": {\"gridcolor\": \"white\", \"linecolor\": \"white\", \"ticks\": \"\"}}, \"scene\": {\"xaxis\": {\"backgroundcolor\": \"#E5ECF6\", \"gridcolor\": \"white\", \"gridwidth\": 2, \"linecolor\": \"white\", \"showbackground\": true, \"ticks\": \"\", \"zerolinecolor\": \"white\"}, \"yaxis\": {\"backgroundcolor\": \"#E5ECF6\", \"gridcolor\": \"white\", \"gridwidth\": 2, \"linecolor\": \"white\", \"showbackground\": true, \"ticks\": \"\", \"zerolinecolor\": \"white\"}, \"zaxis\": {\"backgroundcolor\": \"#E5ECF6\", \"gridcolor\": \"white\", \"gridwidth\": 2, \"linecolor\": \"white\", \"showbackground\": true, \"ticks\": \"\", \"zerolinecolor\": \"white\"}}, \"shapedefaults\": {\"line\": {\"color\": \"#2a3f5f\"}}, \"ternary\": {\"aaxis\": {\"gridcolor\": \"white\", \"linecolor\": \"white\", \"ticks\": \"\"}, \"baxis\": {\"gridcolor\": \"white\", \"linecolor\": \"white\", \"ticks\": \"\"}, \"bgcolor\": \"#E5ECF6\", \"caxis\": {\"gridcolor\": \"white\", \"linecolor\": \"white\", \"ticks\": \"\"}}, \"title\": {\"x\": 0.05}, \"xaxis\": {\"automargin\": true, \"gridcolor\": \"white\", \"linecolor\": \"white\", \"ticks\": \"\", \"title\": {\"standoff\": 15}, \"zerolinecolor\": \"white\", \"zerolinewidth\": 2}, \"yaxis\": {\"automargin\": true, \"gridcolor\": \"white\", \"linecolor\": \"white\", \"ticks\": \"\", \"title\": {\"standoff\": 15}, \"zerolinecolor\": \"white\", \"zerolinewidth\": 2}}}, \"title\": {\"text\": \"NFLX's adjusted stock price\"}, \"yaxis\": {\"title\": {\"text\": \"Price ($)\"}}},\n",
              "                        {\"responsive\": true}\n",
              "                    ).then(function(){\n",
              "                            \n",
              "var gd = document.getElementById('c9514337-6099-48d1-9a65-a6ff1e593675');\n",
              "var x = new MutationObserver(function (mutations, observer) {{\n",
              "        var display = window.getComputedStyle(gd).display;\n",
              "        if (!display || display === 'none') {{\n",
              "            console.log([gd, 'removed!']);\n",
              "            Plotly.purge(gd);\n",
              "            observer.disconnect();\n",
              "        }}\n",
              "}});\n",
              "\n",
              "// Listen for the removal of the full notebook cells\n",
              "var notebookContainer = gd.closest('#notebook-container');\n",
              "if (notebookContainer) {{\n",
              "    x.observe(notebookContainer, {childList: true});\n",
              "}}\n",
              "\n",
              "// Listen for the clearing of the current output cell\n",
              "var outputEl = gd.closest('.output');\n",
              "if (outputEl) {{\n",
              "    x.observe(outputEl, {childList: true});\n",
              "}}\n",
              "\n",
              "                        })\n",
              "                };\n",
              "                \n",
              "            </script>\n",
              "        </div>\n",
              "</body>\n",
              "</html>"
            ]
          },
          "metadata": {}
        }
      ]
    },
    {
      "cell_type": "code",
      "source": [
        "report = dp.Report(\n",
        "  dp.Text('# Netflix stock analysis'),\n",
        "  dp.Plot(fig, caption=\"Interactive plot generated with `plotly`\")\n",
        ")\n",
        "report.save(\"netflix_report_v1.html\", open=True)\n",
        "report.upload(name='netflix_report_v1')"
      ],
      "metadata": {
        "colab": {
          "base_uri": "https://localhost:8080/"
        },
        "id": "ZfDsT1dQafu4",
        "outputId": "965db8dc-7f43-4788-d677-1b6d65cfc0f1"
      },
      "execution_count": 36,
      "outputs": [
        {
          "output_type": "stream",
          "name": "stderr",
          "text": [
            "[\u001b[34m18:55:18\u001b[0m] [\u001b[36mDEBUG\u001b[0m] Saved object to /tmp/dp-tmp-a6u_9rst/dp-tmp-vz50_qnz.pl.json (60480 bytes)\u001b[0m\n",
            "[\u001b[34m18:55:18\u001b[0m] [\u001b[36mDEBUG\u001b[0m] Successfully Built Report\u001b[0m\n",
            "[\u001b[34m18:55:18\u001b[0m] [\u001b[36mDEBUG\u001b[0m] Successfully Built Report\u001b[0m\n",
            "[\u001b[34m18:55:18\u001b[0m] [\u001b[36mDEBUG\u001b[0m] Report size ~0.0 MB\u001b[0m\n"
          ]
        },
        {
          "output_type": "stream",
          "name": "stdout",
          "text": [
            "Report saved to ./netflix_report_v1.html\n",
            "Uploading report and associated data - *please wait...*\n",
            "Your report only contains a single element - did you know you can include additional plots, tables and text in a single report? More info at https://docs.datapane.com/reports/blocks/layout-pages-and-selects\n"
          ]
        },
        {
          "output_type": "stream",
          "name": "stderr",
          "text": [
            "[\u001b[34m18:55:19\u001b[0m] [\u001b[36mDEBUG\u001b[0m] Removing /tmp/dp-tmp-a6u_9rst/dp-tmp-7c1po1ai.ipynb\u001b[0m\n",
            "[\u001b[34m18:55:19\u001b[0m] [\u001b[36mDEBUG\u001b[0m] Refreshed https://datapane.com/api/reports/n3RRxL3/\u001b[0m\n",
            "[\u001b[34m18:55:19\u001b[0m] [\u001b[36mDEBUG\u001b[0m] Proxying 'web_url' lookup to DTO\u001b[0m\n",
            "[\u001b[34m18:55:19\u001b[0m] [\u001b[36mDEBUG\u001b[0m] Proxying 'web_url' lookup to DTO\u001b[0m\n"
          ]
        },
        {
          "output_type": "stream",
          "name": "stdout",
          "text": [
            "Report successfully uploaded. View and share your report at https://datapane.com/u/sswayansidha/reports/n3RRxL3/netflix-report-v1/, or edit your report at https://datapane.com/u/sswayansidha/reports/n3RRxL3/netflix-report-v1/edit/.\n"
          ]
        }
      ]
    },
    {
      "cell_type": "code",
      "source": [
        ""
      ],
      "metadata": {
        "id": "c0_fxPmmanMF"
      },
      "execution_count": 36,
      "outputs": []
    },
    {
      "cell_type": "code",
      "source": [
        ""
      ],
      "metadata": {
        "id": "YsN43LFobeDp"
      },
      "execution_count": null,
      "outputs": []
    }
  ]
}