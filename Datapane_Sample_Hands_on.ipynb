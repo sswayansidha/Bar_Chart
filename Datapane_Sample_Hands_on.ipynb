{
  "nbformat": 4,
  "nbformat_minor": 0,
  "metadata": {
    "colab": {
      "name": "Datapane_Sample_Hands_on.ipynb",
      "provenance": [],
      "authorship_tag": "ABX9TyNM+y/FLKsWgXbQ3Phs55DK",
      "include_colab_link": true
    },
    "kernelspec": {
      "name": "python3",
      "display_name": "Python 3"
    },
    "language_info": {
      "name": "python"
    }
  },
  "cells": [
    {
      "cell_type": "markdown",
      "metadata": {
        "id": "view-in-github",
        "colab_type": "text"
      },
      "source": [
        "<a href=\"https://colab.research.google.com/github/sswayansidha/Visualization/blob/main/Datapane_Sample_Hands_on.ipynb\" target=\"_parent\"><img src=\"https://colab.research.google.com/assets/colab-badge.svg\" alt=\"Open In Colab\"/></a>"
      ]
    },
    {
      "cell_type": "code",
      "source": [
        "!pip3 install datapane !pip install gwpy &> /dev/null\n",
        "!conda install -c conda-forge \"datapane>=0.13.2\" !pip install gwpy &> /dev/null"
      ],
      "metadata": {
        "id": "rupyW6uIYWHe"
      },
      "execution_count": 5,
      "outputs": []
    },
    {
      "cell_type": "code",
      "execution_count": 10,
      "metadata": {
        "id": "yALPx24KXg6F"
      },
      "outputs": [],
      "source": [
        "import pandas as pd\n",
        "import datapane as dp\n",
        "import warnings\n",
        "import matplotlib.pyplot as plt"
      ]
    },
    {
      "cell_type": "code",
      "source": [
        "import pandas as pd\n",
        "data = {'product_name': ['laptop', 'printer', 'tablet', 'desk', 'chair'],\n",
        "        'price': [1200, 150, 300, 450, 200]\n",
        "        }\n",
        "\n",
        "df = pd.DataFrame(data)\n",
        "print (df)"
      ],
      "metadata": {
        "colab": {
          "base_uri": "https://localhost:8080/"
        },
        "id": "H1lVBZzhX9x1",
        "outputId": "80b057e0-fa37-4ebe-f09f-cf35927eb150"
      },
      "execution_count": 8,
      "outputs": [
        {
          "output_type": "stream",
          "name": "stdout",
          "text": [
            "  product_name  price\n",
            "0       laptop   1200\n",
            "1      printer    150\n",
            "2       tablet    300\n",
            "3         desk    450\n",
            "4        chair    200\n"
          ]
        }
      ]
    },
    {
      "cell_type": "code",
      "source": [
        "dp.login('YOUR API KEY FROM DATAPANE')"
      ],
      "metadata": {
        "colab": {
          "base_uri": "https://localhost:8080/",
          "height": 53
        },
        "id": "JC8g9AFoYKFK",
        "outputId": "72ee6744-873c-4b1d-ec3a-67911dfa4a50"
      },
      "execution_count": 9,
      "outputs": [
        {
          "output_type": "stream",
          "name": "stdout",
          "text": [
            "\u001b[32mConnected successfully to https://datapane.com as sswayansidha\u001b[0m\n"
          ]
        },
        {
          "output_type": "execute_result",
          "data": {
            "application/vnd.google.colaboratory.intrinsic+json": {
              "type": "string"
            },
            "text/plain": [
              "'sswayansidha'"
            ]
          },
          "metadata": {},
          "execution_count": 9
        }
      ]
    },
    {
      "cell_type": "code",
      "source": [
        "fig = plt.figure(figsize=(10,5))\n",
        "\n",
        "product = list(df.product_name)\n",
        "price = list(df.price)\n",
        "\n",
        "plt.xlabel(\"Product Name\",fontsize=15)\n",
        "plt.ylabel(\"Price\",fontsize=15)\n",
        "plt.title(\"Product vs Price\",fontsize=20)\n",
        "\n",
        "max_y_lim = max(price)+200\n",
        "min_y_lim = 0\n",
        "plt.ylim(min_y_lim,max_y_lim)\n",
        "plt.tick_params(bottom=False) \n",
        "\n",
        "plt.grid(color = \"grey\", linewidth = \"1.4\", linestyle = \"-.\",alpha = 0.2)\n",
        "\n",
        "plt.bar(product,price,color='#01A9DB',width = 0.5,alpha=1)\n",
        "\n",
        "for index,data in enumerate(price):\n",
        "  plt.text(x=index, y = data+10 , s=f\"{data}\",fontdict=dict(fontsize=15),horizontalalignment='center')\n",
        "\n",
        "plt.show()"
      ],
      "metadata": {
        "colab": {
          "base_uri": "https://localhost:8080/",
          "height": 360
        },
        "id": "faU3x4hhZenk",
        "outputId": "d1071190-a433-48f2-f95e-e423387500a5"
      },
      "execution_count": 21,
      "outputs": [
        {
          "output_type": "display_data",
          "data": {
            "image/png": "[encoded data removed]",
            "text/plain": [
              "<Figure size 720x360 with 1 Axes>"
            ]
          },
          "metadata": {
            "needs_background": "light"
          }
        }
      ]
    },
    {
      "cell_type": "code",
      "source": [
        "report = dp.Report(\n",
        "  dp.Text('Product & Price Sample Test Report'),\n",
        "  dp.Plot(fig, caption=\"Bar Chart\")\n",
        ")\n",
        "report.save(\"product_price_test.html\", open=True)\n",
        "report.upload(name='product_price_test')"
      ],
      "metadata": {
        "colab": {
          "base_uri": "https://localhost:8080/"
        },
        "id": "QHLvyFlYatWv",
        "outputId": "2c43defa-b398-43bf-de6b-b1c435e6e922"
      },
      "execution_count": 22,
      "outputs": [
        {
          "output_type": "stream",
          "name": "stderr",
          "text": [
            "Bokeh version 2.3.3 is not supported, these plots may not display correctly, please install version ~=2.2.0\n",
            "Folium version 0.8.3 is not supported, these plots may not display correctly, please install version >=0.12.0\n"
          ]
        },
        {
          "output_type": "stream",
          "name": "stdout",
          "text": [
            "Report saved to ./product_price_test.html\n",
            "Uploading report and associated data - *please wait...*\n",
            "Your report only contains a single element - did you know you can include additional plots, tables and text in a single report? More info at https://docs.datapane.com/reports/blocks/layout-pages-and-selects\n",
            "Report successfully uploaded. View and share your report at https://datapane.com/u/sswayansidha/reports/W3DzNKk/product-price-test/, or edit your report at https://datapane.com/u/sswayansidha/reports/W3DzNKk/product-price-test/edit/.\n"
          ]
        }
      ]
    },
    {
      "cell_type": "code",
      "source": [
        ""
      ],
      "metadata": {
        "id": "r8nvp86JdZIe"
      },
      "execution_count": null,
      "outputs": []
    }
  ]
}